{
 "cells": [
  {
   "cell_type": "code",
   "execution_count": null,
   "id": "8648cccd",
   "metadata": {},
   "outputs": [],
   "source": []
  },
  {
   "cell_type": "code",
   "execution_count": 87,
   "id": "5d12db2c",
   "metadata": {
    "scrolled": true
   },
   "outputs": [
    {
     "name": "stdout",
     "output_type": "stream",
     "text": [
      "Requirement already satisfied: pandas in /Users/lucilabrisighelligatti/anaconda3/lib/python3.11/site-packages (1.5.3)\n",
      "Requirement already satisfied: python-dateutil>=2.8.1 in /Users/lucilabrisighelligatti/anaconda3/lib/python3.11/site-packages (from pandas) (2.8.2)\n",
      "Requirement already satisfied: pytz>=2020.1 in /Users/lucilabrisighelligatti/anaconda3/lib/python3.11/site-packages (from pandas) (2022.7)\n",
      "Requirement already satisfied: numpy>=1.21.0 in /Users/lucilabrisighelligatti/anaconda3/lib/python3.11/site-packages (from pandas) (1.24.3)\n",
      "Requirement already satisfied: six>=1.5 in /Users/lucilabrisighelligatti/anaconda3/lib/python3.11/site-packages (from python-dateutil>=2.8.1->pandas) (1.16.0)\n",
      "                              CODUSU  ANO4  TRIMESTRE  NRO_HOGAR  COMPONENTE  \\\n",
      "0      TQRMNOSUWHLMKQCDEFNFF00852219  2023          4          1           1   \n",
      "1      TQRMNOSUWHLMKQCDEFNFF00852219  2023          4          1           2   \n",
      "2      TQRMNOTXQHKOLMCDEGNFJ00794590  2023          4          1           1   \n",
      "3      TQRMNOTXQHKOLMCDEGNFJ00794590  2023          4          1           2   \n",
      "4      TQRMNOTXQHKOLMCDEGNFJ00794590  2023          4          1           3   \n",
      "...                              ...   ...        ...        ...         ...   \n",
      "47332  TQRMNORXTHLOLSCDEGJBF00853031  2023          4          1           1   \n",
      "47333  TQRMNORXTHLOLSCDEGJBF00853031  2023          4          1           2   \n",
      "47334  TQRMNORXTHLOLSCDEGJBF00853031  2023          4          1           3   \n",
      "47335  TQRMNORXTHLOLSCDEGJBF00853031  2023          4          1           4   \n",
      "47336  TQRMNOQWQHKMLNCDEIMBF00792561  2023          4          1           1   \n",
      "\n",
      "       H15  REGION MAS_500  AGLOMERADO  PONDERA  ...  PDECIFR  ADECIFR  \\\n",
      "0        1      41       N           7      370  ...     12.0       12   \n",
      "1        1      41       N           7      370  ...     12.0       12   \n",
      "2        1      44       N          17      281  ...      9.0        7   \n",
      "3        1      44       N          17      281  ...      9.0        7   \n",
      "4        0      44       N          17      281  ...      9.0        7   \n",
      "...    ...     ...     ...         ...      ...  ...      ...      ...   \n",
      "47332    1      43       S          13      634  ...      NaN        4   \n",
      "47333    1      43       S          13      634  ...      NaN        4   \n",
      "47334    1      43       S          13      634  ...      NaN        4   \n",
      "47335    1      43       S          13      634  ...      NaN        4   \n",
      "47336    1      43       N          36      142  ...      4.0        4   \n",
      "\n",
      "            IPCF  DECCFR  IDECCFR  RDECCFR  GDECCFR  PDECCFR  ADECCFR  PONDIH  \n",
      "0           0.00      12     12.0       12      NaN     12.0       12       0  \n",
      "1           0.00      12     12.0       12      NaN     12.0       12       0  \n",
      "2      216666.67       8      8.0        7      NaN      8.0        6     387  \n",
      "3      216666.67       8      8.0        7      NaN      8.0        6     387  \n",
      "4      216666.67       8      8.0        7      NaN      8.0        6     387  \n",
      "...          ...     ...      ...      ...      ...      ...      ...     ...  \n",
      "47332   65000.00       2      2.0        2      2.0      NaN        2     777  \n",
      "47333   65000.00       2      2.0        2      2.0      NaN        2     777  \n",
      "47334   65000.00       2      2.0        2      2.0      NaN        2     777  \n",
      "47335   65000.00       2      2.0        2      2.0      NaN        2     777  \n",
      "47336  250000.00       8      9.0        8      NaN      9.0        8     156  \n",
      "\n",
      "[47337 rows x 177 columns]\n"
     ]
    }
   ],
   "source": [
    "#parte 1: Analizando la base \n",
    "#1.a Tenemos que eliminar todas las observaciones que no corresponden a CABA y GBA\n",
    "import sys\n",
    "!{sys.executable} -m pip install pandas\n",
    "import pandas as pd \n",
    "#cargamos el archivo de excel \n",
    "df = pd.read_excel('usu_individual_T423.xlsx')\n",
    "print(df )"
   ]
  },
  {
   "cell_type": "code",
   "execution_count": 88,
   "id": "4e98655f",
   "metadata": {},
   "outputs": [
    {
     "name": "stdout",
     "output_type": "stream",
     "text": [
      "Index(['CODUSU', 'ANO4', 'TRIMESTRE', 'NRO_HOGAR', 'COMPONENTE', 'H15',\n",
      "       'REGION', 'MAS_500', 'AGLOMERADO', 'PONDERA',\n",
      "       ...\n",
      "       'PDECIFR', 'ADECIFR', 'IPCF', 'DECCFR', 'IDECCFR', 'RDECCFR', 'GDECCFR',\n",
      "       'PDECCFR', 'ADECCFR', 'PONDIH'],\n",
      "      dtype='object', length=177)\n"
     ]
    }
   ],
   "source": [
    "print(df.columns)"
   ]
  },
  {
   "cell_type": "code",
   "execution_count": 89,
   "id": "54689600",
   "metadata": {},
   "outputs": [],
   "source": [
    "aglomerado = 'AGLOMERADO'\n",
    "\n",
    "#definimos los \"IDs\" correspondientes a CABA y GBA\n",
    "ids = [32, 33] \n",
    "\n",
    "#filytranos las filas corresponden a CABA y GBA\n",
    "df_filtrado = df[df[aglomerado].isin(ids)]\n",
    "\n",
    "#guardamos el DataFrame filtrado en un nuevo archivo excel\n",
    "df_filtrado.to_excel('datos_filtrados.xlsx', index=False)"
   ]
  },
  {
   "cell_type": "code",
   "execution_count": 90,
   "id": "30132284",
   "metadata": {},
   "outputs": [
    {
     "name": "stdout",
     "output_type": "stream",
     "text": [
      "                              CODUSU  ANO4  TRIMESTRE  NRO_HOGAR  COMPONENTE  \\\n",
      "109    TQRMNOTUUHJMLPCDEIIAD00801670  2023          4          1           1   \n",
      "110    TQRMNOTUUHJMLPCDEIIAD00801670  2023          4          1           2   \n",
      "111    TQRMNOPUUHJKLQCDEIIAD00793187  2023          4          1           1   \n",
      "112    TQRMNOPUUHJKLQCDEIIAD00793187  2023          4          1           2   \n",
      "113    TQRMNOPUTHKLMNCDEIIAD00791268  2023          4          1           1   \n",
      "...                              ...   ...        ...        ...         ...   \n",
      "45768  TQRMNOSRQHLMNSCDEIJAH00855730  2023          4          1           2   \n",
      "45769  TQRMNOSRQHLMNSCDEIJAH00855730  2023          4          1           3   \n",
      "45770  TQRMNOVTYHLMNUCDEIJAH00855731  2023          4          1           1   \n",
      "45771  TQRMNOVTYHLMNUCDEIJAH00855731  2023          4          1           2   \n",
      "45772  TQRMNOVTYHLMNUCDEIJAH00855731  2023          4          1           3   \n",
      "\n",
      "       H15  REGION MAS_500  AGLOMERADO  PONDERA  ...  PDECIFR  ADECIFR  \\\n",
      "109      1       1       S          32     1775  ...      NaN        5   \n",
      "110      1       1       S          32     1775  ...      NaN        5   \n",
      "111      2       1       S          32      609  ...      NaN       12   \n",
      "112      1       1       S          32      609  ...      NaN       12   \n",
      "113      1       1       S          32     3129  ...      NaN        8   \n",
      "...    ...     ...     ...         ...      ...  ...      ...      ...   \n",
      "45768    1       1       S          33     1230  ...      NaN        9   \n",
      "45769    0       1       S          33     1230  ...      NaN        9   \n",
      "45770    1       1       S          33     1316  ...      NaN        3   \n",
      "45771    1       1       S          33     1316  ...      NaN        3   \n",
      "45772    1       1       S          33     1316  ...      NaN        3   \n",
      "\n",
      "            IPCF  DECCFR  IDECCFR  RDECCFR  GDECCFR  PDECCFR  ADECCFR  PONDIH  \n",
      "109    225000.00       8      NaN        8      8.0      NaN        5    3079  \n",
      "110    225000.00       8      NaN        8      8.0      NaN        5    3079  \n",
      "111         0.00      12      NaN       12     12.0      NaN       12       0  \n",
      "112         0.00      12      NaN       12     12.0      NaN       12       0  \n",
      "113    266666.67       9      NaN        8      8.0      NaN        6    4648  \n",
      "...          ...     ...      ...      ...      ...      ...      ...     ...  \n",
      "45768  266666.67       9      NaN        8      8.0      NaN        9    2145  \n",
      "45769  266666.67       9      NaN        8      8.0      NaN        9    2145  \n",
      "45770   80000.00       3      NaN        3      3.0      NaN        3    2192  \n",
      "45771   80000.00       3      NaN        3      3.0      NaN        3    2192  \n",
      "45772   80000.00       3      NaN        3      3.0      NaN        3    2192  \n",
      "\n",
      "[7380 rows x 177 columns]\n"
     ]
    }
   ],
   "source": [
    "print (df_filtrado)"
   ]
  },
  {
   "cell_type": "code",
   "execution_count": 91,
   "id": "5c45357b",
   "metadata": {},
   "outputs": [],
   "source": [
    "#1.b eliminamos las columnas IDECCFR, PDECCFR y PDECIFR que aparecen como NAN (explicacion en el informe)\n",
    "columnas_a_eliminar = ['IDECCFR', 'PDECCFR', 'PDECIFR']\n",
    "df_filtrado = df_filtrado.drop(columns=columnas_a_eliminar)\n",
    "\n",
    "#guardamos el DataFrame filtrado\n",
    "df_filtrado.to_excel('datos_filtrados.xlsx', index=False)\n"
   ]
  },
  {
   "cell_type": "code",
   "execution_count": 92,
   "id": "c7bd9014",
   "metadata": {},
   "outputs": [
    {
     "name": "stdout",
     "output_type": "stream",
     "text": [
      "                              CODUSU  ANO4  TRIMESTRE  NRO_HOGAR  COMPONENTE  \\\n",
      "109    TQRMNOTUUHJMLPCDEIIAD00801670  2023          4          1           1   \n",
      "110    TQRMNOTUUHJMLPCDEIIAD00801670  2023          4          1           2   \n",
      "111    TQRMNOPUUHJKLQCDEIIAD00793187  2023          4          1           1   \n",
      "112    TQRMNOPUUHJKLQCDEIIAD00793187  2023          4          1           2   \n",
      "113    TQRMNOPUTHKLMNCDEIIAD00791268  2023          4          1           1   \n",
      "...                              ...   ...        ...        ...         ...   \n",
      "45768  TQRMNOSRQHLMNSCDEIJAH00855730  2023          4          1           2   \n",
      "45769  TQRMNOSRQHLMNSCDEIJAH00855730  2023          4          1           3   \n",
      "45770  TQRMNOVTYHLMNUCDEIJAH00855731  2023          4          1           1   \n",
      "45771  TQRMNOVTYHLMNUCDEIJAH00855731  2023          4          1           2   \n",
      "45772  TQRMNOVTYHLMNUCDEIJAH00855731  2023          4          1           3   \n",
      "\n",
      "       H15  REGION MAS_500  AGLOMERADO  PONDERA  ...  IDECIFR  RDECIFR  \\\n",
      "109      1       1       S          32     1775  ...      NaN        7   \n",
      "110      1       1       S          32     1775  ...      NaN        7   \n",
      "111      2       1       S          32      609  ...      NaN       12   \n",
      "112      1       1       S          32      609  ...      NaN       12   \n",
      "113      1       1       S          32     3129  ...      NaN        9   \n",
      "...    ...     ...     ...         ...      ...  ...      ...      ...   \n",
      "45768    1       1       S          33     1230  ...      NaN        9   \n",
      "45769    0       1       S          33     1230  ...      NaN        9   \n",
      "45770    1       1       S          33     1316  ...      NaN        3   \n",
      "45771    1       1       S          33     1316  ...      NaN        3   \n",
      "45772    1       1       S          33     1316  ...      NaN        3   \n",
      "\n",
      "      GDECIFR  ADECIFR       IPCF  DECCFR  RDECCFR  GDECCFR  ADECCFR  PONDIH  \n",
      "109       7.0        5  225000.00       8        8      8.0        5    3079  \n",
      "110       7.0        5  225000.00       8        8      8.0        5    3079  \n",
      "111      12.0       12       0.00      12       12     12.0       12       0  \n",
      "112      12.0       12       0.00      12       12     12.0       12       0  \n",
      "113       9.0        8  266666.67       9        8      8.0        6    4648  \n",
      "...       ...      ...        ...     ...      ...      ...      ...     ...  \n",
      "45768     9.0        9  266666.67       9        8      8.0        9    2145  \n",
      "45769     9.0        9  266666.67       9        8      8.0        9    2145  \n",
      "45770     3.0        3   80000.00       3        3      3.0        3    2192  \n",
      "45771     3.0        3   80000.00       3        3      3.0        3    2192  \n",
      "45772     3.0        3   80000.00       3        3      3.0        3    2192  \n",
      "\n",
      "[7380 rows x 174 columns]\n"
     ]
    }
   ],
   "source": [
    "print (df_filtrado)"
   ]
  },
  {
   "cell_type": "code",
   "execution_count": 93,
   "id": "117de640",
   "metadata": {},
   "outputs": [
    {
     "data": {
      "image/png": "[encoded data removed]",
      "text/plain": [
       "<Figure size 1000x600 with 1 Axes>"
      ]
     },
     "metadata": {},
     "output_type": "display_data"
    }
   ],
   "source": [
    "#1.c realizamos un grafico de barras mostrando la composicion por sexo.\n",
    "\n",
    "import sys\n",
    "import pandas as pd\n",
    "import seaborn as sns\n",
    "import matplotlib.pyplot as plt\n",
    "\n",
    "#renombramos los valores de la columna 'CH04', ya que toma valor 1 cuando es Varon y 2 cuando es Mujer. \n",
    "df_filtrado['sexo'] = df_filtrado['CH04'].replace({1: 'Varón', 2: 'Mujer'})\n",
    "\n",
    "#creamos un gráfico de barras agrupadas de la composición por sexo y por aglomeración\n",
    "plt.figure(figsize=(10, 6))  # Ajustar el tamaño de la figura\n",
    "sns.countplot(data=df_filtrado, x=aglomerado, hue='sexo', palette='pastel')\n",
    "plt.title('Composición por sexo segun aglomerado')\n",
    "plt.xlabel('Aglomerado ID')\n",
    "plt.ylabel('Cantidad de registros')\n",
    "plt.legend(title='Sexo')\n",
    "plt.show()\n"
   ]
  },
  {
   "cell_type": "code",
   "execution_count": 94,
   "id": "1b473918",
   "metadata": {},
   "outputs": [
    {
     "name": "stdout",
     "output_type": "stream",
     "text": [
      "Index(['CODUSU', 'ANO4', 'TRIMESTRE', 'NRO_HOGAR', 'COMPONENTE', 'H15',\n",
      "       'REGION', 'MAS_500', 'AGLOMERADO', 'PONDERA',\n",
      "       ...\n",
      "       'IDECIFR', 'RDECIFR', 'GDECIFR', 'ADECIFR', 'IPCF', 'DECCFR', 'RDECCFR',\n",
      "       'GDECCFR', 'ADECCFR', 'PONDIH'],\n",
      "      dtype='object', length=174)\n"
     ]
    },
    {
     "data": {
      "image/png": "[encoded data removed]",
      "text/plain": [
       "<Figure size 1000x800 with 2 Axes>"
      ]
     },
     "metadata": {},
     "output_type": "display_data"
    }
   ],
   "source": [
    "#1.d queremos realizar una matriz de correlacion con las variables: CH04, CH07, CH08, NIVEL ED, ESTADO, CAT INAC, IPCF.\n",
    "\n",
    "#primero cargamos el archivod de excel con los datos filtrados\n",
    "data = pd.read_excel('datos_filtrados.xlsx')\n",
    "print(data.columns)\n",
    "\n",
    "#seleccionamos las columnas especificadas para la matriz de correlación\n",
    "variables = ['CH04', 'CH07', 'CH08', 'NIVEL_ED', 'ESTADO', 'CAT_INAC', 'IPCF']\n",
    "data_selected = data[variables]\n",
    "\n",
    "#calculamos la matriz de correlacion \n",
    "corr = data_selected.corr()\n",
    "\n",
    "#graficamos la matriz de correlacion \n",
    "plt.figure(figsize=(10, 8))\n",
    "ax = sns.heatmap(\n",
    "    corr, \n",
    "    vmin=-1, vmax=1, center=0,\n",
    "    cmap=sns.diverging_palette(20, 220, n=200),\n",
    "    square=True,\n",
    "    annot=True  # Añadir valores en las celdas\n",
    ")\n",
    "\n",
    "ax.set_xticklabels(\n",
    "    ax.get_xticklabels(),\n",
    "    rotation=45,\n",
    "    horizontalalignment='right'\n",
    ")\n",
    "\n",
    "ax.set_yticklabels(\n",
    "    ax.get_yticklabels(),\n",
    "    rotation=0,\n",
    "    horizontalalignment='right'\n",
    ")\n",
    "\n",
    "plt.title('Matriz de Correlación')\n",
    "plt.show()\n"
   ]
  },
  {
   "cell_type": "code",
   "execution_count": 95,
   "id": "82d35753",
   "metadata": {},
   "outputs": [
    {
     "name": "stdout",
     "output_type": "stream",
     "text": [
      "desocupados: 240\n",
      "inactivos: 2765\n",
      "media de IPCF para los menores de 10 años: 75351.60983490566\n",
      "media de IPCF para los que no responden: 0.0\n",
      "media de IPCF para ocupados: 132041.48649856733\n",
      "media de IPCF para desocupados: 58012.198416666666\n",
      "media de IPCF para inactivos: 84993.67688245932\n"
     ]
    }
   ],
   "source": [
    "#1.e  queremos ver: cuantos desocupados, inactivos, la media del IPCF segun estado (ocupado, desocupado, inactivo) en la muestra\n",
    "\n",
    "import pandas as pd\n",
    "\n",
    "#cargamos el archivo con los datos filtrados\n",
    "data = pd.read_excel('datos_filtrados.xlsx')\n",
    "\n",
    "#la columna 'ESTADO' indica el estado de ocupación, siendo  1 = Ocupado, 2 = Desocupado, 3 = Inactivo\n",
    "\n",
    "#calculamos la cantidad de desocupados e inactivos.\n",
    "desocupados = data[data['ESTADO'] == 2].shape[0]\n",
    "inactivos = data[data['ESTADO'] == 3].shape[0]\n",
    "\n",
    "print(f\"desocupados: {desocupados}\")\n",
    "print(f\"inactivos: {inactivos}\")\n",
    "\n",
    "# Calcular la media de IPCF según el estado\n",
    "# Agrupamos por la columna 'ESTADO' y calculamos la media de 'IPCF'\n",
    "mean_ipcf_by_estado = data.groupby('ESTADO')['IPCF'].mean()\n",
    "\n",
    "# Suponiendo que los valores en 'ESTADO' son 1 = Ocupado, 2 = Desocupado, 3 = Inactivo\n",
    "mean_noresponde = mean_ipcf_by_estado.get(0, float('nan'))\n",
    "mean_ocupado = mean_ipcf_by_estado.get(1, float('nan'))\n",
    "mean_desocupado = mean_ipcf_by_estado.get(2, float('nan'))\n",
    "mean_inactivo = mean_ipcf_by_estado.get(3, float('nan'))\n",
    "mean_menor_de_10 = mean_ipcf_by_estado.get(4, float('nan'))\n",
    "print(f\"media de IPCF para los menores de 10 años: {mean_menor_de_10}\")\n",
    "print(f\"media de IPCF para los que no responden: {mean_noresponde}\")\n",
    "print(f\"media de IPCF para ocupados: {mean_ocupado}\")\n",
    "print(f\"media de IPCF para desocupados: {mean_desocupado}\")\n",
    "print(f\"media de IPCF para inactivos: {mean_inactivo}\")\n"
   ]
  },
  {
   "cell_type": "code",
   "execution_count": 96,
   "id": "a645f29e",
   "metadata": {},
   "outputs": [
    {
     "name": "stdout",
     "output_type": "stream",
     "text": [
      "Guardado en 'datos_con_adulto_equiv.xlsx'\n"
     ]
    }
   ],
   "source": [
    "#f.\n",
    "import pandas as pd\n",
    "\n",
    "#primero definimos los rangos de edad porque en el excel de adultos equivalentes estan en forma de texto\n",
    "edad_replace = {\n",
    "    'Menor de 1 año': -1,\n",
    "    '1año': 1,\n",
    "    '2 años': 2,\n",
    "    '3 años': 3,\n",
    "    '4 años': 4,\n",
    "    '5 años': 5,\n",
    "    '6 años': 6,\n",
    "    '7 años': 7,\n",
    "    '8 años': 8,\n",
    "    '9 años': 9,\n",
    "    '10 años': 10,\n",
    "    '11 años': 11,\n",
    "    '12 años': 12,\n",
    "    '13 años': 13,\n",
    "    '14 años': 14,\n",
    "    '15 años': 15,\n",
    "    '16 años': 16,\n",
    "    '17 años': 17,\n",
    "    '18 a 29 años': list(range(18, 30)),\n",
    "    '30 a 45 años': list(range(30, 46)),\n",
    "    '46 a 60 años': list(range(46, 61)),\n",
    "    '61 a 75 años': list(range(61, 76)),\n",
    "    'más de 75 años': list(range(76, 110))\n",
    "}\n",
    "\n",
    "#cargamos los datos filtrados \n",
    "data = pd.read_excel('datos_filtrados.xlsx')\n",
    "\n",
    "#cargamos \"tabla_adulto_equiv.xlsx\" considerando solo las filas relevantes\n",
    "tabla_adulto_equiv = pd.read_excel('tabla_adulto_equiv.xlsx', skiprows=5, nrows=24)\n",
    "tabla_adulto_equiv.columns = ['edad', 'mujeres', 'varones']\n",
    "\n",
    "# Convertir la columna 'edad' a string. \n",
    "tabla_adulto_equiv['edad'] = tabla_adulto_equiv['edad'].astype(str)\n",
    "\n",
    "# Preparar la tabla de adultos equivalentes\n",
    "tabla_adulto_equiv = tabla_adulto_equiv.melt(id_vars=['edad'], var_name='sexo', value_name='adulto_equiv')\n",
    "tabla_adulto_equiv['sexo'] = tabla_adulto_equiv['sexo'].map({'mujeres': 2, 'varones': 1})\n",
    "\n",
    "#manejamos los rangos de edad de la tabla.\n",
    "def expand_ranges(df, edad_replace):\n",
    "    rows = []\n",
    "    for _, row in df.iterrows():\n",
    "        if row['edad'] in edad_replace:\n",
    "            if isinstance(edad_replace[row['edad']], int):\n",
    "                rows.append(row)\n",
    "            else:\n",
    "                for age in edad_replace[row['edad']]:\n",
    "                    new_row = row.copy()\n",
    "                    new_row['edad'] = str(age)\n",
    "                    rows.append(new_row)\n",
    "        else:\n",
    "            rows.append(row)\n",
    "    return pd.DataFrame(rows)\n",
    "\n",
    "tabla_adulto_equiv_expanded = expand_ranges(tabla_adulto_equiv, edad_replace)\n",
    "\n",
    "# Convertir las edades en el DataFrame principal a texto para que coincidan con el formato de tabla_adulto_equiv\n",
    "data['CH06'] = data['CH06'].astype(str)\n",
    "\n",
    "# Crear una clave de combinación única para hacer el merge en la tabla expandida\n",
    "tabla_adulto_equiv_expanded['clave'] = tabla_adulto_equiv_expanded['sexo'].astype(str) + '_' + tabla_adulto_equiv_expanded['edad']\n",
    "data['clave'] = data['CH04'].astype(str) + '_' + data['CH06']\n",
    "\n",
    "# Hacer el merge con la tabla de adulto equivalente\n",
    "data = pd.merge(data, tabla_adulto_equiv_expanded[['clave', 'adulto_equiv']], on='clave', how='left')\n",
    "\n",
    "# Sumar la columna 'adulto_equiv' por hogar y crear la columna 'ad equiv hogar'\n",
    "data['ad equiv hogar'] = data.groupby('CODUSU')['adulto_equiv'].transform('sum')\n",
    "\n",
    "# Guardar el DataFrame con las nuevas columnas en un nuevo archivo Excel\n",
    "data.to_excel('datos_con_adulto_equiv.xlsx', index=False)\n",
    "\n",
    "print(\"Guardado en 'datos_con_adulto_equiv.xlsx'\")\n"
   ]
  },
  {
   "cell_type": "code",
   "execution_count": 131,
   "id": "d4029d2e",
   "metadata": {},
   "outputs": [],
   "source": [
    "import pandas as pd\n",
    "data = pd.read_excel('datos_con_adulto_equiv.xlsx')\n"
   ]
  },
  {
   "cell_type": "code",
   "execution_count": 135,
   "id": "1785bdc3",
   "metadata": {},
   "outputs": [
    {
     "name": "stdout",
     "output_type": "stream",
     "text": [
      "Cantidad de personas que respondieron el ITF: 4401\n",
      "Cantidad de personas que no respondieron el ITF: 2979\n"
     ]
    }
   ],
   "source": [
    "#3. identificamos las personas que no reportaron su ingreso total familiar (ITF)\n",
    "import pandas as pd\n",
    "\n",
    "# Contar cuántas personas respondieron y no respondieron el ITF\n",
    "num_respondieron_itf = (data['ITF'] != 0).sum()\n",
    "num_no_respondieron_itf = (data['ITF'] == 0).sum()\n",
    "\n",
    "print(f\"Cantidad de personas que respondieron el ITF: {num_respondieron_itf}\")\n",
    "print(f\"Cantidad de personas que no respondieron el ITF: {num_no_respondieron_itf}\")\n",
    "\n",
    "# Crear DataFrames separados para quienes respondieron y no respondieron el ITF\n",
    "respondieron_itf = data[data['ITF'] != 0].copy()\n",
    "no_respondieron_itf = data[data['ITF'] == 0].copy()\n",
    "\n",
    "# Guardar los nuevos DataFrames en archivo csv\n",
    "respondieron_itf.to_csv('respondieron_itf.csv', index=False)\n",
    "no_respondieron_itf.to_csv('no_respondieron_itf.csv', index=False)\n"
   ]
  },
  {
   "cell_type": "code",
   "execution_count": 136,
   "id": "28fe7b41",
   "metadata": {},
   "outputs": [
    {
     "name": "stdout",
     "output_type": "stream",
     "text": [
      "                             CODUSU  ANO4  TRIMESTRE  NRO_HOGAR  COMPONENTE  \\\n",
      "0     TQRMNOTUUHJMLPCDEIIAD00801670  2023          4          1           1   \n",
      "1     TQRMNOTUUHJMLPCDEIIAD00801670  2023          4          1           2   \n",
      "4     TQRMNOPUTHKLMNCDEIIAD00791268  2023          4          1           1   \n",
      "5     TQRMNOPUTHKLMNCDEIIAD00791268  2023          4          1           2   \n",
      "6     TQRMNOPUTHKLMNCDEIIAD00791268  2023          4          1           3   \n",
      "...                             ...   ...        ...        ...         ...   \n",
      "7375  TQRMNOSRQHLMNSCDEIJAH00855730  2023          4          1           2   \n",
      "7376  TQRMNOSRQHLMNSCDEIJAH00855730  2023          4          1           3   \n",
      "7377  TQRMNOVTYHLMNUCDEIJAH00855731  2023          4          1           1   \n",
      "7378  TQRMNOVTYHLMNUCDEIJAH00855731  2023          4          1           2   \n",
      "7379  TQRMNOVTYHLMNUCDEIJAH00855731  2023          4          1           3   \n",
      "\n",
      "      H15  REGION MAS_500  AGLOMERADO  PONDERA  ...  ADECIFR       IPCF  \\\n",
      "0       1       1       S          32     1775  ...        5  225000.00   \n",
      "1       1       1       S          32     1775  ...        5  225000.00   \n",
      "4       1       1       S          32     3129  ...        8  266666.67   \n",
      "5       1       1       S          32     3129  ...        8  266666.67   \n",
      "6       1       1       S          32     3129  ...        8  266666.67   \n",
      "...   ...     ...     ...         ...      ...  ...      ...        ...   \n",
      "7375    1       1       S          33     1230  ...        9  266666.67   \n",
      "7376    0       1       S          33     1230  ...        9  266666.67   \n",
      "7377    1       1       S          33     1316  ...        3   80000.00   \n",
      "7378    1       1       S          33     1316  ...        3   80000.00   \n",
      "7379    1       1       S          33     1316  ...        3   80000.00   \n",
      "\n",
      "     DECCFR  RDECCFR  GDECCFR  ADECCFR  PONDIH  clave  adulto_equiv  \\\n",
      "0         8        8        8        5    3079   1_76          0.74   \n",
      "1         8        8        8        5    3079   2_79          0.63   \n",
      "4         9        8        8        6    4648   2_49          0.76   \n",
      "5         9        8        8        6    4648   1_20          1.02   \n",
      "6         9        8        8        6    4648   1_17           NaN   \n",
      "...     ...      ...      ...      ...     ...    ...           ...   \n",
      "7375      9        8        8        9    2145   2_39          0.77   \n",
      "7376      9        8        8        9    2145    2_7           NaN   \n",
      "7377      3        3        3        3    2192   2_67          0.67   \n",
      "7378      3        3        3        3    2192   1_67          0.83   \n",
      "7379      3        3        3        3    2192   1_25          1.02   \n",
      "\n",
      "      ad equiv hogar  \n",
      "0               1.37  \n",
      "1               1.37  \n",
      "4               1.78  \n",
      "5               1.78  \n",
      "6               1.78  \n",
      "...              ...  \n",
      "7375            1.77  \n",
      "7376            1.77  \n",
      "7377            2.52  \n",
      "7378            2.52  \n",
      "7379            2.52  \n",
      "\n",
      "[4401 rows x 177 columns]\n"
     ]
    }
   ],
   "source": [
    "print(respondieron_itf)"
   ]
  },
  {
   "cell_type": "code",
   "execution_count": 137,
   "id": "2ca1e6e1",
   "metadata": {},
   "outputs": [],
   "source": [
    "#4.\n",
    "canasta_basica_total = 132853.3\n",
    "respondieron_itf['ingreso_necesario'] = canasta_basica_total * respondieron_itf['adulto_equiv']\n"
   ]
  },
  {
   "cell_type": "code",
   "execution_count": 138,
   "id": "1b14c5f5",
   "metadata": {},
   "outputs": [
    {
     "name": "stdout",
     "output_type": "stream",
     "text": [
      "Cantidad de personas identificadas como pobres: 157\n"
     ]
    }
   ],
   "source": [
    "#5.\n",
    "respondieron_itf['pobre'] = (respondieron_itf['ITF'] < respondieron_itf['ingreso_necesario']).astype(int)\n",
    "num_pobres = respondieron_itf['pobre'].sum()\n",
    "\n",
    "print(f\"Cantidad de personas identificadas como pobres: {num_pobres}\")\n"
   ]
  },
  {
   "cell_type": "code",
   "execution_count": 139,
   "id": "8a5bcf93",
   "metadata": {},
   "outputs": [
    {
     "name": "stdout",
     "output_type": "stream",
     "text": [
      "                             CODUSU  ANO4  TRIMESTRE  NRO_HOGAR  COMPONENTE  \\\n",
      "0     TQRMNOTUUHJMLPCDEIIAD00801670  2023          4          1           1   \n",
      "1     TQRMNOTUUHJMLPCDEIIAD00801670  2023          4          1           2   \n",
      "4     TQRMNOPUTHKLMNCDEIIAD00791268  2023          4          1           1   \n",
      "5     TQRMNOPUTHKLMNCDEIIAD00791268  2023          4          1           2   \n",
      "6     TQRMNOPUTHKLMNCDEIIAD00791268  2023          4          1           3   \n",
      "...                             ...   ...        ...        ...         ...   \n",
      "7375  TQRMNOSRQHLMNSCDEIJAH00855730  2023          4          1           2   \n",
      "7376  TQRMNOSRQHLMNSCDEIJAH00855730  2023          4          1           3   \n",
      "7377  TQRMNOVTYHLMNUCDEIJAH00855731  2023          4          1           1   \n",
      "7378  TQRMNOVTYHLMNUCDEIJAH00855731  2023          4          1           2   \n",
      "7379  TQRMNOVTYHLMNUCDEIJAH00855731  2023          4          1           3   \n",
      "\n",
      "      H15  REGION MAS_500  AGLOMERADO  PONDERA  ...  DECCFR  RDECCFR GDECCFR  \\\n",
      "0       1       1       S          32     1775  ...       8        8       8   \n",
      "1       1       1       S          32     1775  ...       8        8       8   \n",
      "4       1       1       S          32     3129  ...       9        8       8   \n",
      "5       1       1       S          32     3129  ...       9        8       8   \n",
      "6       1       1       S          32     3129  ...       9        8       8   \n",
      "...   ...     ...     ...         ...      ...  ...     ...      ...     ...   \n",
      "7375    1       1       S          33     1230  ...       9        8       8   \n",
      "7376    0       1       S          33     1230  ...       9        8       8   \n",
      "7377    1       1       S          33     1316  ...       3        3       3   \n",
      "7378    1       1       S          33     1316  ...       3        3       3   \n",
      "7379    1       1       S          33     1316  ...       3        3       3   \n",
      "\n",
      "      ADECCFR  PONDIH  clave  adulto_equiv  ad equiv hogar  ingreso_necesario  \\\n",
      "0           5    3079   1_76          0.74            1.37          98311.442   \n",
      "1           5    3079   2_79          0.63            1.37          83697.579   \n",
      "4           6    4648   2_49          0.76            1.78         100968.508   \n",
      "5           6    4648   1_20          1.02            1.78         135510.366   \n",
      "6           6    4648   1_17           NaN            1.78                NaN   \n",
      "...       ...     ...    ...           ...             ...                ...   \n",
      "7375        9    2145   2_39          0.77            1.77         102297.041   \n",
      "7376        9    2145    2_7           NaN            1.77                NaN   \n",
      "7377        3    2192   2_67          0.67            2.52          89011.711   \n",
      "7378        3    2192   1_67          0.83            2.52         110268.239   \n",
      "7379        3    2192   1_25          1.02            2.52         135510.366   \n",
      "\n",
      "      pobre  \n",
      "0         0  \n",
      "1         0  \n",
      "4         0  \n",
      "5         0  \n",
      "6         0  \n",
      "...     ...  \n",
      "7375      0  \n",
      "7376      0  \n",
      "7377      0  \n",
      "7378      0  \n",
      "7379      0  \n",
      "\n",
      "[4401 rows x 179 columns]\n"
     ]
    }
   ],
   "source": [
    "print(respondieron_itf)"
   ]
  },
  {
   "cell_type": "code",
   "execution_count": 110,
   "id": "4deebc83",
   "metadata": {},
   "outputs": [
    {
     "name": "stdout",
     "output_type": "stream",
     "text": [
      "Index(['CODUSU', 'ANO4', 'TRIMESTRE', 'NRO_HOGAR', 'COMPONENTE', 'H15',\n",
      "       'REGION', 'MAS_500', 'AGLOMERADO', 'PONDERA',\n",
      "       ...\n",
      "       'DECCFR', 'RDECCFR', 'GDECCFR', 'ADECCFR', 'PONDIH', 'clave',\n",
      "       'adulto_equiv', 'ad equiv hogar', 'ingreso_necesario', 'pobre'],\n",
      "      dtype='object', length=179)\n"
     ]
    }
   ],
   "source": [
    "print(respondieron_itf.columns)"
   ]
  },
  {
   "cell_type": "code",
   "execution_count": 128,
   "id": "7f2592f1",
   "metadata": {},
   "outputs": [],
   "source": [
    "#parte 2: Clasificacion\n",
    "import pandas as pd\n",
    "\n",
    "respondieronn_itf= pd.read_csv('respondieron_itf.csv', low_memory=False, delimiter=',')\n",
    "norespondieron_itf= pd.read_csv('no_respondieron_itf.csv', low_memory=False, delimiter=',')\n"
   ]
  },
  {
   "cell_type": "code",
   "execution_count": 129,
   "id": "3cb2e1d7",
   "metadata": {},
   "outputs": [
    {
     "name": "stdout",
     "output_type": "stream",
     "text": [
      "Index(['CODUSU', 'ANO4', 'TRIMESTRE', 'NRO_HOGAR', 'COMPONENTE', 'H15',\n",
      "       'REGION', 'MAS_500', 'AGLOMERADO', 'PONDERA',\n",
      "       ...\n",
      "       'ADECIFR', 'IPCF', 'DECCFR', 'RDECCFR', 'GDECCFR', 'ADECCFR', 'PONDIH',\n",
      "       'clave', 'adulto_equiv', 'ad equiv hogar'],\n",
      "      dtype='object', length=177)\n"
     ]
    }
   ],
   "source": [
    "print(respondieron_itf.columns)\n"
   ]
  },
  {
   "cell_type": "code",
   "execution_count": 126,
   "id": "213dfd59",
   "metadata": {},
   "outputs": [],
   "source": [
    "#1. lista ajustada de columnas que existen en los datos y deben ser eliminadas\n",
    "columnas_a_eliminar_ajustadas = [\n",
    "    'PP08D1', 'PP08D4', 'PP08F1', 'PP08F2', 'PP08J1', 'PP08J2', 'PP08J3', \n",
    "    'P21', 'DECOCUR', 'IDECOCUR', 'RDECOCUR', 'GDECOCUR', 'PDECOCUR', \n",
    "    'ADECOCUR', 'PONDIIO', 'TOT_P12', 'P47T', 'DECINDR', 'IDECINDR', \n",
    "    'RDECINDR', 'GDECINDR', 'PDECINDR', 'ADECINDR', 'PONDII', 'V2_M', \n",
    "    'V3_M', 'V4_M', 'V5_M', 'V8_M', 'V9_M', 'V10_M', 'V11_M', 'V12_M', \n",
    "    'V18_M', 'V19_AM', 'V21_M', 'T_VI', 'ITF', 'DECIFR', 'IDECIFR', \n",
    "    'RDECIFR', 'GDECIFR', 'PDECIFR', 'ADECIFR', 'IPCF', 'DECCFR', \n",
    "    'RDECCFR', 'GDECCFR', 'ADECCFR', 'PONDIH', 'adulto_equiv', 'ad equiv hogar']\n",
    "\n",
    "#eliminamos las columnas presentes en los datos\n",
    "columnas_a_eliminar_ajustadas = [col for col in columnas_a_eliminar_ajustadas if col in columnas_respondieron]\n",
    "\n",
    "#eliminamos las columnas de ingresos de ambas bases de datos\n",
    "respondieron_limpio = respondieron.drop(columns=columnas_a_eliminar_ajustadas)\n",
    "norespondieron_limpio = norespondieron.drop(columns=columnas_a_eliminar_ajustadas)\n",
    "\n",
    "#guardameslas bases de datos limpia en nuevos archivos\n",
    "respondieron_limpio.to_csv('respondieron_limpio.csv', index=False)\n",
    "norespondieron_limpio.to_csv('norespondieron_limpio.csv', index=False)\n"
   ]
  },
  {
   "cell_type": "code",
   "execution_count": 127,
   "id": "f8f81c18",
   "metadata": {},
   "outputs": [
    {
     "name": "stdout",
     "output_type": "stream",
     "text": [
      "Index(['CODUSU', 'ANO4', 'TRIMESTRE', 'NRO_HOGAR', 'COMPONENTE', 'H15',\n",
      "       'REGION', 'MAS_500', 'AGLOMERADO', 'PONDERA',\n",
      "       ...\n",
      "       'PP11L1', 'PP11M', 'PP11N', 'PP11O', 'PP11P', 'PP11Q', 'PP11R', 'PP11S',\n",
      "       'PP11T', 'clave'],\n",
      "      dtype='object', length=126)\n"
     ]
    }
   ],
   "source": [
    "print(respondieron_limpio.columns)"
   ]
  },
  {
   "cell_type": "code",
   "execution_count": null,
   "id": "45f95dde",
   "metadata": {},
   "outputs": [],
   "source": []
  },
  {
   "cell_type": "code",
   "execution_count": 140,
   "id": "307da661",
   "metadata": {},
   "outputs": [
    {
     "ename": "KeyError",
     "evalue": "\"['pobre'] not found in axis\"",
     "output_type": "error",
     "traceback": [
      "\u001b[0;31m---------------------------------------------------------------------------\u001b[0m",
      "\u001b[0;31mKeyError\u001b[0m                                  Traceback (most recent call last)",
      "Cell \u001b[0;32mIn[140], line 9\u001b[0m\n\u001b[1;32m      6\u001b[0m respondieron_itf\u001b[38;5;241m=\u001b[39m pd\u001b[38;5;241m.\u001b[39mread_csv(\u001b[38;5;124m'\u001b[39m\u001b[38;5;124mrespondieron_itf.csv\u001b[39m\u001b[38;5;124m'\u001b[39m, low_memory\u001b[38;5;241m=\u001b[39m\u001b[38;5;28;01mFalse\u001b[39;00m, delimiter\u001b[38;5;241m=\u001b[39m\u001b[38;5;124m'\u001b[39m\u001b[38;5;124m,\u001b[39m\u001b[38;5;124m'\u001b[39m)\n\u001b[1;32m      8\u001b[0m \u001b[38;5;66;03m# Variables independientes (X) y dependiente (y)\u001b[39;00m\n\u001b[0;32m----> 9\u001b[0m X \u001b[38;5;241m=\u001b[39m respondieron_itf\u001b[38;5;241m.\u001b[39mdrop(columns\u001b[38;5;241m=\u001b[39m[\u001b[38;5;124m'\u001b[39m\u001b[38;5;124mpobre\u001b[39m\u001b[38;5;124m'\u001b[39m])\n\u001b[1;32m     10\u001b[0m y \u001b[38;5;241m=\u001b[39m respondieron_itf[\u001b[38;5;124m'\u001b[39m\u001b[38;5;124mpobre\u001b[39m\u001b[38;5;124m'\u001b[39m]\n\u001b[1;32m     12\u001b[0m \u001b[38;5;66;03m# Agregar columna de unos (1) a las variables independientes\u001b[39;00m\n",
      "File \u001b[0;32m~/anaconda3/lib/python3.11/site-packages/pandas/util/_decorators.py:331\u001b[0m, in \u001b[0;36mdeprecate_nonkeyword_arguments.<locals>.decorate.<locals>.wrapper\u001b[0;34m(*args, **kwargs)\u001b[0m\n\u001b[1;32m    325\u001b[0m \u001b[38;5;28;01mif\u001b[39;00m \u001b[38;5;28mlen\u001b[39m(args) \u001b[38;5;241m>\u001b[39m num_allow_args:\n\u001b[1;32m    326\u001b[0m     warnings\u001b[38;5;241m.\u001b[39mwarn(\n\u001b[1;32m    327\u001b[0m         msg\u001b[38;5;241m.\u001b[39mformat(arguments\u001b[38;5;241m=\u001b[39m_format_argument_list(allow_args)),\n\u001b[1;32m    328\u001b[0m         \u001b[38;5;167;01mFutureWarning\u001b[39;00m,\n\u001b[1;32m    329\u001b[0m         stacklevel\u001b[38;5;241m=\u001b[39mfind_stack_level(),\n\u001b[1;32m    330\u001b[0m     )\n\u001b[0;32m--> 331\u001b[0m \u001b[38;5;28;01mreturn\u001b[39;00m func(\u001b[38;5;241m*\u001b[39margs, \u001b[38;5;241m*\u001b[39m\u001b[38;5;241m*\u001b[39mkwargs)\n",
      "File \u001b[0;32m~/anaconda3/lib/python3.11/site-packages/pandas/core/frame.py:5399\u001b[0m, in \u001b[0;36mDataFrame.drop\u001b[0;34m(self, labels, axis, index, columns, level, inplace, errors)\u001b[0m\n\u001b[1;32m   5251\u001b[0m \u001b[38;5;129m@deprecate_nonkeyword_arguments\u001b[39m(version\u001b[38;5;241m=\u001b[39m\u001b[38;5;28;01mNone\u001b[39;00m, allowed_args\u001b[38;5;241m=\u001b[39m[\u001b[38;5;124m\"\u001b[39m\u001b[38;5;124mself\u001b[39m\u001b[38;5;124m\"\u001b[39m, \u001b[38;5;124m\"\u001b[39m\u001b[38;5;124mlabels\u001b[39m\u001b[38;5;124m\"\u001b[39m])\n\u001b[1;32m   5252\u001b[0m \u001b[38;5;28;01mdef\u001b[39;00m \u001b[38;5;21mdrop\u001b[39m(  \u001b[38;5;66;03m# type: ignore[override]\u001b[39;00m\n\u001b[1;32m   5253\u001b[0m     \u001b[38;5;28mself\u001b[39m,\n\u001b[0;32m   (...)\u001b[0m\n\u001b[1;32m   5260\u001b[0m     errors: IgnoreRaise \u001b[38;5;241m=\u001b[39m \u001b[38;5;124m\"\u001b[39m\u001b[38;5;124mraise\u001b[39m\u001b[38;5;124m\"\u001b[39m,\n\u001b[1;32m   5261\u001b[0m ) \u001b[38;5;241m-\u001b[39m\u001b[38;5;241m>\u001b[39m DataFrame \u001b[38;5;241m|\u001b[39m \u001b[38;5;28;01mNone\u001b[39;00m:\n\u001b[1;32m   5262\u001b[0m \u001b[38;5;250m    \u001b[39m\u001b[38;5;124;03m\"\"\"\u001b[39;00m\n\u001b[1;32m   5263\u001b[0m \u001b[38;5;124;03m    Drop specified labels from rows or columns.\u001b[39;00m\n\u001b[1;32m   5264\u001b[0m \n\u001b[0;32m   (...)\u001b[0m\n\u001b[1;32m   5397\u001b[0m \u001b[38;5;124;03m            weight  1.0     0.8\u001b[39;00m\n\u001b[1;32m   5398\u001b[0m \u001b[38;5;124;03m    \"\"\"\u001b[39;00m\n\u001b[0;32m-> 5399\u001b[0m     \u001b[38;5;28;01mreturn\u001b[39;00m \u001b[38;5;28msuper\u001b[39m()\u001b[38;5;241m.\u001b[39mdrop(\n\u001b[1;32m   5400\u001b[0m         labels\u001b[38;5;241m=\u001b[39mlabels,\n\u001b[1;32m   5401\u001b[0m         axis\u001b[38;5;241m=\u001b[39maxis,\n\u001b[1;32m   5402\u001b[0m         index\u001b[38;5;241m=\u001b[39mindex,\n\u001b[1;32m   5403\u001b[0m         columns\u001b[38;5;241m=\u001b[39mcolumns,\n\u001b[1;32m   5404\u001b[0m         level\u001b[38;5;241m=\u001b[39mlevel,\n\u001b[1;32m   5405\u001b[0m         inplace\u001b[38;5;241m=\u001b[39minplace,\n\u001b[1;32m   5406\u001b[0m         errors\u001b[38;5;241m=\u001b[39merrors,\n\u001b[1;32m   5407\u001b[0m     )\n",
      "File \u001b[0;32m~/anaconda3/lib/python3.11/site-packages/pandas/util/_decorators.py:331\u001b[0m, in \u001b[0;36mdeprecate_nonkeyword_arguments.<locals>.decorate.<locals>.wrapper\u001b[0;34m(*args, **kwargs)\u001b[0m\n\u001b[1;32m    325\u001b[0m \u001b[38;5;28;01mif\u001b[39;00m \u001b[38;5;28mlen\u001b[39m(args) \u001b[38;5;241m>\u001b[39m num_allow_args:\n\u001b[1;32m    326\u001b[0m     warnings\u001b[38;5;241m.\u001b[39mwarn(\n\u001b[1;32m    327\u001b[0m         msg\u001b[38;5;241m.\u001b[39mformat(arguments\u001b[38;5;241m=\u001b[39m_format_argument_list(allow_args)),\n\u001b[1;32m    328\u001b[0m         \u001b[38;5;167;01mFutureWarning\u001b[39;00m,\n\u001b[1;32m    329\u001b[0m         stacklevel\u001b[38;5;241m=\u001b[39mfind_stack_level(),\n\u001b[1;32m    330\u001b[0m     )\n\u001b[0;32m--> 331\u001b[0m \u001b[38;5;28;01mreturn\u001b[39;00m func(\u001b[38;5;241m*\u001b[39margs, \u001b[38;5;241m*\u001b[39m\u001b[38;5;241m*\u001b[39mkwargs)\n",
      "File \u001b[0;32m~/anaconda3/lib/python3.11/site-packages/pandas/core/generic.py:4505\u001b[0m, in \u001b[0;36mNDFrame.drop\u001b[0;34m(self, labels, axis, index, columns, level, inplace, errors)\u001b[0m\n\u001b[1;32m   4503\u001b[0m \u001b[38;5;28;01mfor\u001b[39;00m axis, labels \u001b[38;5;129;01min\u001b[39;00m axes\u001b[38;5;241m.\u001b[39mitems():\n\u001b[1;32m   4504\u001b[0m     \u001b[38;5;28;01mif\u001b[39;00m labels \u001b[38;5;129;01mis\u001b[39;00m \u001b[38;5;129;01mnot\u001b[39;00m \u001b[38;5;28;01mNone\u001b[39;00m:\n\u001b[0;32m-> 4505\u001b[0m         obj \u001b[38;5;241m=\u001b[39m obj\u001b[38;5;241m.\u001b[39m_drop_axis(labels, axis, level\u001b[38;5;241m=\u001b[39mlevel, errors\u001b[38;5;241m=\u001b[39merrors)\n\u001b[1;32m   4507\u001b[0m \u001b[38;5;28;01mif\u001b[39;00m inplace:\n\u001b[1;32m   4508\u001b[0m     \u001b[38;5;28mself\u001b[39m\u001b[38;5;241m.\u001b[39m_update_inplace(obj)\n",
      "File \u001b[0;32m~/anaconda3/lib/python3.11/site-packages/pandas/core/generic.py:4546\u001b[0m, in \u001b[0;36mNDFrame._drop_axis\u001b[0;34m(self, labels, axis, level, errors, only_slice)\u001b[0m\n\u001b[1;32m   4544\u001b[0m         new_axis \u001b[38;5;241m=\u001b[39m axis\u001b[38;5;241m.\u001b[39mdrop(labels, level\u001b[38;5;241m=\u001b[39mlevel, errors\u001b[38;5;241m=\u001b[39merrors)\n\u001b[1;32m   4545\u001b[0m     \u001b[38;5;28;01melse\u001b[39;00m:\n\u001b[0;32m-> 4546\u001b[0m         new_axis \u001b[38;5;241m=\u001b[39m axis\u001b[38;5;241m.\u001b[39mdrop(labels, errors\u001b[38;5;241m=\u001b[39merrors)\n\u001b[1;32m   4547\u001b[0m     indexer \u001b[38;5;241m=\u001b[39m axis\u001b[38;5;241m.\u001b[39mget_indexer(new_axis)\n\u001b[1;32m   4549\u001b[0m \u001b[38;5;66;03m# Case for non-unique axis\u001b[39;00m\n\u001b[1;32m   4550\u001b[0m \u001b[38;5;28;01melse\u001b[39;00m:\n",
      "File \u001b[0;32m~/anaconda3/lib/python3.11/site-packages/pandas/core/indexes/base.py:6934\u001b[0m, in \u001b[0;36mIndex.drop\u001b[0;34m(self, labels, errors)\u001b[0m\n\u001b[1;32m   6932\u001b[0m \u001b[38;5;28;01mif\u001b[39;00m mask\u001b[38;5;241m.\u001b[39many():\n\u001b[1;32m   6933\u001b[0m     \u001b[38;5;28;01mif\u001b[39;00m errors \u001b[38;5;241m!=\u001b[39m \u001b[38;5;124m\"\u001b[39m\u001b[38;5;124mignore\u001b[39m\u001b[38;5;124m\"\u001b[39m:\n\u001b[0;32m-> 6934\u001b[0m         \u001b[38;5;28;01mraise\u001b[39;00m \u001b[38;5;167;01mKeyError\u001b[39;00m(\u001b[38;5;124mf\u001b[39m\u001b[38;5;124m\"\u001b[39m\u001b[38;5;132;01m{\u001b[39;00m\u001b[38;5;28mlist\u001b[39m(labels[mask])\u001b[38;5;132;01m}\u001b[39;00m\u001b[38;5;124m not found in axis\u001b[39m\u001b[38;5;124m\"\u001b[39m)\n\u001b[1;32m   6935\u001b[0m     indexer \u001b[38;5;241m=\u001b[39m indexer[\u001b[38;5;241m~\u001b[39mmask]\n\u001b[1;32m   6936\u001b[0m \u001b[38;5;28;01mreturn\u001b[39;00m \u001b[38;5;28mself\u001b[39m\u001b[38;5;241m.\u001b[39mdelete(indexer)\n",
      "\u001b[0;31mKeyError\u001b[0m: \"['pobre'] not found in axis\""
     ]
    }
   ],
   "source": [
    "#2.\n",
    "import pandas as pd\n",
    "from sklearn.model_selection import train_test_split\n",
    "\n",
    "# Leer el archivo CSV que contiene la columna 'pobre'\n",
    "respondieron_itf= pd.read_csv('respondieron_itf.csv', low_memory=False, delimiter=',')\n",
    "\n",
    "# Variables independientes (X) y dependiente (y)\n",
    "X = respondieron_itf.drop(columns=['pobre'])\n",
    "y = respondieron_itf['pobre']\n",
    "\n",
    "# Agregar columna de unos (1) a las variables independientes\n",
    "X['UNOS'] = 1\n",
    "\n",
    "# División de los datos en entrenamiento (70%) y prueba (30%)\n",
    "X_train, X_test, y_train, y_test = train_test_split(X, y, test_size=0.3, random_state=101)\n",
    "\n",
    "# Verificar la división de los datos\n",
    "print(f\"Tamaño del conjunto de entrenamiento: {X_train.shape[0]}\")\n",
    "print(f\"Tamaño del conjunto de prueba: {X_test.shape[0]}\")\n"
   ]
  },
  {
   "cell_type": "code",
   "execution_count": 141,
   "id": "3006550c",
   "metadata": {},
   "outputs": [
    {
     "ename": "NameError",
     "evalue": "name 'X_train' is not defined",
     "output_type": "error",
     "traceback": [
      "\u001b[0;31m---------------------------------------------------------------------------\u001b[0m",
      "\u001b[0;31mNameError\u001b[0m                                 Traceback (most recent call last)",
      "Cell \u001b[0;32mIn[141], line 6\u001b[0m\n\u001b[1;32m      3\u001b[0m \u001b[38;5;28;01mfrom\u001b[39;00m \u001b[38;5;21;01msklearn\u001b[39;00m\u001b[38;5;21;01m.\u001b[39;00m\u001b[38;5;21;01mmetrics\u001b[39;00m \u001b[38;5;28;01mimport\u001b[39;00m confusion_matrix, roc_curve, auc, accuracy_score\n\u001b[1;32m      5\u001b[0m logit_model \u001b[38;5;241m=\u001b[39m LogisticRegression()\n\u001b[0;32m----> 6\u001b[0m logit_model\u001b[38;5;241m.\u001b[39mfit(X_train, y_train)\n\u001b[1;32m      8\u001b[0m y_pred_logit \u001b[38;5;241m=\u001b[39m logit_model\u001b[38;5;241m.\u001b[39mpredict(X_test)\n\u001b[1;32m     10\u001b[0m conf_matrix_logit \u001b[38;5;241m=\u001b[39m confusion_matrix(y_test, y_pred_logit)\n",
      "\u001b[0;31mNameError\u001b[0m: name 'X_train' is not defined"
     ]
    }
   ],
   "source": [
    "#3.\n",
    "from sklearn.linear_model import LogisticRegression\n",
    "from sklearn.metrics import confusion_matrix, roc_curve, auc, accuracy_score\n",
    "\n",
    "logit_model = LogisticRegression()\n",
    "logit_model.fit(X_train, y_train)\n",
    "\n",
    "y_pred_logit = logit_model.predict(X_test)\n",
    "\n",
    "conf_matrix_logit = confusion_matrix(y_test, y_pred_logit)\n",
    "fpr_logit, tpr_logit, _ = roc_curve(y_test, y_pred_logit)\n",
    "roc_auc_logit = auc(fpr_logit, tpr_logit)\n",
    "accuracy_logit = accuracy_score(y_test, y_pred_logit)\n",
    "\n",
    "print(f\"Confusion Matrix:\\n{conf_matrix_logit}\")\n",
    "print(f\"ROC AUC: {roc_auc_logit}\")\n",
    "print(f\"Accuracy: {accuracy_logit}\")\n"
   ]
  },
  {
   "cell_type": "code",
   "execution_count": 142,
   "id": "7273dcf0",
   "metadata": {},
   "outputs": [
    {
     "ename": "NameError",
     "evalue": "name 'X_train' is not defined",
     "output_type": "error",
     "traceback": [
      "\u001b[0;31m---------------------------------------------------------------------------\u001b[0m",
      "\u001b[0;31mNameError\u001b[0m                                 Traceback (most recent call last)",
      "Cell \u001b[0;32mIn[142], line 4\u001b[0m\n\u001b[1;32m      1\u001b[0m \u001b[38;5;28;01mfrom\u001b[39;00m \u001b[38;5;21;01msklearn\u001b[39;00m\u001b[38;5;21;01m.\u001b[39;00m\u001b[38;5;21;01mdiscriminant_analysis\u001b[39;00m \u001b[38;5;28;01mimport\u001b[39;00m LinearDiscriminantAnalysis\n\u001b[1;32m      3\u001b[0m lda_model \u001b[38;5;241m=\u001b[39m LinearDiscriminantAnalysis()\n\u001b[0;32m----> 4\u001b[0m lda_model\u001b[38;5;241m.\u001b[39mfit(X_train, y_train)\n\u001b[1;32m      6\u001b[0m y_pred_lda \u001b[38;5;241m=\u001b[39m lda_model\u001b[38;5;241m.\u001b[39mpredict(X_test)\n\u001b[1;32m      8\u001b[0m conf_matrix_lda \u001b[38;5;241m=\u001b[39m confusion_matrix(y_test, y_pred_lda)\n",
      "\u001b[0;31mNameError\u001b[0m: name 'X_train' is not defined"
     ]
    }
   ],
   "source": [
    "from sklearn.discriminant_analysis import LinearDiscriminantAnalysis\n",
    "\n",
    "lda_model = LinearDiscriminantAnalysis()\n",
    "lda_model.fit(X_train, y_train)\n",
    "\n",
    "y_pred_lda = lda_model.predict(X_test)\n",
    "\n",
    "conf_matrix_lda = confusion_matrix(y_test, y_pred_lda)\n",
    "fpr_lda, tpr_lda, _ = roc_curve(y_test, y_pred_lda)\n",
    "roc_auc_lda = auc(fpr_lda, tpr_lda)\n",
    "accuracy_lda = accuracy_score(y_test, y_pred_lda)\n",
    "\n",
    "print(f\"Confusion Matrix:\\n{conf_matrix_lda}\")\n",
    "print(f\"ROC AUC: {roc_auc_lda}\")\n",
    "print(f\"Accuracy: {accuracy_lda}\")"
   ]
  },
  {
   "cell_type": "code",
   "execution_count": 143,
   "id": "788585cd",
   "metadata": {},
   "outputs": [
    {
     "ename": "NameError",
     "evalue": "name 'X_train' is not defined",
     "output_type": "error",
     "traceback": [
      "\u001b[0;31m---------------------------------------------------------------------------\u001b[0m",
      "\u001b[0;31mNameError\u001b[0m                                 Traceback (most recent call last)",
      "Cell \u001b[0;32mIn[143], line 4\u001b[0m\n\u001b[1;32m      1\u001b[0m \u001b[38;5;28;01mfrom\u001b[39;00m \u001b[38;5;21;01msklearn\u001b[39;00m\u001b[38;5;21;01m.\u001b[39;00m\u001b[38;5;21;01mneighbors\u001b[39;00m \u001b[38;5;28;01mimport\u001b[39;00m KNeighborsClassifier\n\u001b[1;32m      3\u001b[0m knn_model \u001b[38;5;241m=\u001b[39m KNeighborsClassifier(n_neighbors\u001b[38;5;241m=\u001b[39m\u001b[38;5;241m3\u001b[39m)\n\u001b[0;32m----> 4\u001b[0m knn_model\u001b[38;5;241m.\u001b[39mfit(X_train, y_train)\n\u001b[1;32m      6\u001b[0m y_pred_knn \u001b[38;5;241m=\u001b[39m knn_model\u001b[38;5;241m.\u001b[39mpredict(X_test)\n\u001b[1;32m      8\u001b[0m conf_matrix_knn \u001b[38;5;241m=\u001b[39m confusion_matrix(y_test, y_pred_knn)\n",
      "\u001b[0;31mNameError\u001b[0m: name 'X_train' is not defined"
     ]
    }
   ],
   "source": [
    "from sklearn.neighbors import KNeighborsClassifier\n",
    "\n",
    "knn_model = KNeighborsClassifier(n_neighbors=3)\n",
    "knn_model.fit(X_train, y_train)\n",
    "\n",
    "y_pred_knn = knn_model.predict(X_test)\n",
    "\n",
    "conf_matrix_knn = confusion_matrix(y_test, y_pred_knn)\n",
    "fpr_knn, tpr_knn, _ = roc_curve(y_test, y_pred_knn)\n",
    "roc_auc_knn = auc(fpr_knn, tpr_knn)\n",
    "accuracy_knn = accuracy_score(y_test, y_pred_knn)\n",
    "\n",
    "print(f\"Confusion Matrix:\\n{conf_matrix_knn}\")\n",
    "print(f\"ROC AUC: {roc_auc_knn}\")\n",
    "print(f\"Accuracy: {accuracy_knn}\")\n"
   ]
  },
  {
   "cell_type": "code",
   "execution_count": 144,
   "id": "ec612c0c",
   "metadata": {},
   "outputs": [
    {
     "ename": "NotFittedError",
     "evalue": "This LogisticRegression instance is not fitted yet. Call 'fit' with appropriate arguments before using this estimator.",
     "output_type": "error",
     "traceback": [
      "\u001b[0;31m---------------------------------------------------------------------------\u001b[0m",
      "\u001b[0;31mNotFittedError\u001b[0m                            Traceback (most recent call last)",
      "Cell \u001b[0;32mIn[144], line 3\u001b[0m\n\u001b[1;32m      1\u001b[0m \u001b[38;5;66;03m#4.\u001b[39;00m\n\u001b[1;32m      2\u001b[0m \u001b[38;5;66;03m#predicción de pobreza en la base de datos de los que no respondieron\u001b[39;00m\n\u001b[0;32m----> 3\u001b[0m predicciones_no_respondieron \u001b[38;5;241m=\u001b[39m logit_model\u001b[38;5;241m.\u001b[39mpredict(norespondieron_limpio)\n\u001b[1;32m      5\u001b[0m \u001b[38;5;66;03m#.\u001b[39;00m\n\u001b[1;32m      6\u001b[0m \u001b[38;5;66;03m#agregamos las predicciones al dataframe original\u001b[39;00m\n\u001b[1;32m      7\u001b[0m norespondieron_limpio[\u001b[38;5;124m'\u001b[39m\u001b[38;5;124mprediccion_pobre\u001b[39m\u001b[38;5;124m'\u001b[39m] \u001b[38;5;241m=\u001b[39m predicciones_no_respondieron\n",
      "File \u001b[0;32m~/anaconda3/lib/python3.11/site-packages/sklearn/linear_model/_base.py:451\u001b[0m, in \u001b[0;36mLinearClassifierMixin.predict\u001b[0;34m(self, X)\u001b[0m\n\u001b[1;32m    437\u001b[0m \u001b[38;5;250m\u001b[39m\u001b[38;5;124;03m\"\"\"\u001b[39;00m\n\u001b[1;32m    438\u001b[0m \u001b[38;5;124;03mPredict class labels for samples in X.\u001b[39;00m\n\u001b[1;32m    439\u001b[0m \n\u001b[0;32m   (...)\u001b[0m\n\u001b[1;32m    448\u001b[0m \u001b[38;5;124;03m    Vector containing the class labels for each sample.\u001b[39;00m\n\u001b[1;32m    449\u001b[0m \u001b[38;5;124;03m\"\"\"\u001b[39;00m\n\u001b[1;32m    450\u001b[0m xp, _ \u001b[38;5;241m=\u001b[39m get_namespace(X)\n\u001b[0;32m--> 451\u001b[0m scores \u001b[38;5;241m=\u001b[39m \u001b[38;5;28mself\u001b[39m\u001b[38;5;241m.\u001b[39mdecision_function(X)\n\u001b[1;32m    452\u001b[0m \u001b[38;5;28;01mif\u001b[39;00m \u001b[38;5;28mlen\u001b[39m(scores\u001b[38;5;241m.\u001b[39mshape) \u001b[38;5;241m==\u001b[39m \u001b[38;5;241m1\u001b[39m:\n\u001b[1;32m    453\u001b[0m     indices \u001b[38;5;241m=\u001b[39m xp\u001b[38;5;241m.\u001b[39mastype(scores \u001b[38;5;241m>\u001b[39m \u001b[38;5;241m0\u001b[39m, \u001b[38;5;28mint\u001b[39m)\n",
      "File \u001b[0;32m~/anaconda3/lib/python3.11/site-packages/sklearn/linear_model/_base.py:429\u001b[0m, in \u001b[0;36mLinearClassifierMixin.decision_function\u001b[0;34m(self, X)\u001b[0m\n\u001b[1;32m    410\u001b[0m \u001b[38;5;28;01mdef\u001b[39;00m \u001b[38;5;21mdecision_function\u001b[39m(\u001b[38;5;28mself\u001b[39m, X):\n\u001b[1;32m    411\u001b[0m \u001b[38;5;250m    \u001b[39m\u001b[38;5;124;03m\"\"\"\u001b[39;00m\n\u001b[1;32m    412\u001b[0m \u001b[38;5;124;03m    Predict confidence scores for samples.\u001b[39;00m\n\u001b[1;32m    413\u001b[0m \n\u001b[0;32m   (...)\u001b[0m\n\u001b[1;32m    427\u001b[0m \u001b[38;5;124;03m        this class would be predicted.\u001b[39;00m\n\u001b[1;32m    428\u001b[0m \u001b[38;5;124;03m    \"\"\"\u001b[39;00m\n\u001b[0;32m--> 429\u001b[0m     check_is_fitted(\u001b[38;5;28mself\u001b[39m)\n\u001b[1;32m    430\u001b[0m     xp, _ \u001b[38;5;241m=\u001b[39m get_namespace(X)\n\u001b[1;32m    432\u001b[0m     X \u001b[38;5;241m=\u001b[39m \u001b[38;5;28mself\u001b[39m\u001b[38;5;241m.\u001b[39m_validate_data(X, accept_sparse\u001b[38;5;241m=\u001b[39m\u001b[38;5;124m\"\u001b[39m\u001b[38;5;124mcsr\u001b[39m\u001b[38;5;124m\"\u001b[39m, reset\u001b[38;5;241m=\u001b[39m\u001b[38;5;28;01mFalse\u001b[39;00m)\n",
      "File \u001b[0;32m~/anaconda3/lib/python3.11/site-packages/sklearn/utils/validation.py:1462\u001b[0m, in \u001b[0;36mcheck_is_fitted\u001b[0;34m(estimator, attributes, msg, all_or_any)\u001b[0m\n\u001b[1;32m   1459\u001b[0m     \u001b[38;5;28;01mraise\u001b[39;00m \u001b[38;5;167;01mTypeError\u001b[39;00m(\u001b[38;5;124m\"\u001b[39m\u001b[38;5;132;01m%s\u001b[39;00m\u001b[38;5;124m is not an estimator instance.\u001b[39m\u001b[38;5;124m\"\u001b[39m \u001b[38;5;241m%\u001b[39m (estimator))\n\u001b[1;32m   1461\u001b[0m \u001b[38;5;28;01mif\u001b[39;00m \u001b[38;5;129;01mnot\u001b[39;00m _is_fitted(estimator, attributes, all_or_any):\n\u001b[0;32m-> 1462\u001b[0m     \u001b[38;5;28;01mraise\u001b[39;00m NotFittedError(msg \u001b[38;5;241m%\u001b[39m {\u001b[38;5;124m\"\u001b[39m\u001b[38;5;124mname\u001b[39m\u001b[38;5;124m\"\u001b[39m: \u001b[38;5;28mtype\u001b[39m(estimator)\u001b[38;5;241m.\u001b[39m\u001b[38;5;18m__name__\u001b[39m})\n",
      "\u001b[0;31mNotFittedError\u001b[0m: This LogisticRegression instance is not fitted yet. Call 'fit' with appropriate arguments before using this estimator."
     ]
    }
   ],
   "source": [
    "#4.\n",
    "#predicción de pobreza en la base de datos de los que no respondieron\n",
    "predicciones_no_respondieron = logit_model.predict(norespondieron_limpio)\n",
    "\n",
    "#.\n",
    "#agregamos las predicciones al dataframe original\n",
    "norespondieron_limpio['prediccion_pobre'] = predicciones_no_respondieron\n",
    "\n",
    "#proporción de las personas que no respondieron identificadas como pobres\n",
    "proporcion_pobres = norespondieron_limpio['prediccion_pobre'].mean()\n",
    "\n",
    "print(f\"Proporción de personas que no respondieron identificadas como pobres: {proporcion_pobres}\")\n"
   ]
  },
  {
   "cell_type": "code",
   "execution_count": 145,
   "id": "cf0f1699",
   "metadata": {},
   "outputs": [
    {
     "ename": "NameError",
     "evalue": "name 'X_train' is not defined",
     "output_type": "error",
     "traceback": [
      "\u001b[0;31m---------------------------------------------------------------------------\u001b[0m",
      "\u001b[0;31mNameError\u001b[0m                                 Traceback (most recent call last)",
      "Cell \u001b[0;32mIn[145], line 4\u001b[0m\n\u001b[1;32m      1\u001b[0m \u001b[38;5;28;01mfrom\u001b[39;00m \u001b[38;5;21;01msklearn\u001b[39;00m\u001b[38;5;21;01m.\u001b[39;00m\u001b[38;5;21;01mfeature_selection\u001b[39;00m \u001b[38;5;28;01mimport\u001b[39;00m SelectKBest, f_classif\n\u001b[1;32m      3\u001b[0m selector \u001b[38;5;241m=\u001b[39m SelectKBest(f_classif, k\u001b[38;5;241m=\u001b[39m\u001b[38;5;124m'\u001b[39m\u001b[38;5;124mall\u001b[39m\u001b[38;5;124m'\u001b[39m)  \u001b[38;5;66;03m# Ajustar 'k' según el número de características relevantes deseadas\u001b[39;00m\n\u001b[0;32m----> 4\u001b[0m selector\u001b[38;5;241m.\u001b[39mfit(X_train, y_train)\n\u001b[1;32m      6\u001b[0m \u001b[38;5;66;03m#obtener las puntuaciones de las características\u001b[39;00m\n\u001b[1;32m      7\u001b[0m scores \u001b[38;5;241m=\u001b[39m selector\u001b[38;5;241m.\u001b[39mscores_\n",
      "\u001b[0;31mNameError\u001b[0m: name 'X_train' is not defined"
     ]
    }
   ],
   "source": [
    "from sklearn.feature_selection import SelectKBest, f_classif\n",
    "\n",
    "selector = SelectKBest(f_classif, k='all')  # Ajustar 'k' según el número de características relevantes deseadas\n",
    "selector.fit(X_train, y_train)\n",
    "\n",
    "#obtener las puntuaciones de las características\n",
    "scores = selector.scores_\n",
    "features = X_train.columns\n",
    "\n",
    "#creamos data frame\n",
    "importancia_features = pd.DataFrame({'Feature': features, 'Score': scores})\n",
    "importancia_features = importancia_features.sort_values(by='Score', ascending=False)\n",
    "print(importancia_features)"
   ]
  },
  {
   "cell_type": "code",
   "execution_count": null,
   "id": "1ed0dfaf",
   "metadata": {},
   "outputs": [],
   "source": []
  }
 ],
 "metadata": {
  "kernelspec": {
   "display_name": "Python 3 (ipykernel)",
   "language": "python",
   "name": "python3"
  },
  "language_info": {
   "codemirror_mode": {
    "name": "ipython",
    "version": 3
   },
   "file_extension": ".py",
   "mimetype": "text/x-python",
   "name": "python",
   "nbconvert_exporter": "python",
   "pygments_lexer": "ipython3",
   "version": "3.11.4"
  }
 },
 "nbformat": 4,
 "nbformat_minor": 5
}
