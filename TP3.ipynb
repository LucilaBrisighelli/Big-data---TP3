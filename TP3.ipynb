{
 "cells": [
  {
   "cell_type": "code",
   "execution_count": 3,
   "id": "5d12db2c",
   "metadata": {
    "scrolled": true
   },
   "outputs": [
    {
     "name": "stdout",
     "output_type": "stream",
     "text": [
      "Requirement already satisfied: pandas in /Users/lucilabrisighelligatti/anaconda3/lib/python3.11/site-packages (1.5.3)\r\n",
      "Requirement already satisfied: python-dateutil>=2.8.1 in /Users/lucilabrisighelligatti/anaconda3/lib/python3.11/site-packages (from pandas) (2.8.2)\r\n",
      "Requirement already satisfied: pytz>=2020.1 in /Users/lucilabrisighelligatti/anaconda3/lib/python3.11/site-packages (from pandas) (2022.7)\r\n",
      "Requirement already satisfied: numpy>=1.21.0 in /Users/lucilabrisighelligatti/anaconda3/lib/python3.11/site-packages (from pandas) (1.24.3)\r\n",
      "Requirement already satisfied: six>=1.5 in /Users/lucilabrisighelligatti/anaconda3/lib/python3.11/site-packages (from python-dateutil>=2.8.1->pandas) (1.16.0)\r\n"
     ]
    },
    {
     "ename": "FileNotFoundError",
     "evalue": "[Errno 2] No such file or directory: 'usu_individual_T423.xlsx'",
     "output_type": "error",
     "traceback": [
      "\u001b[0;31m---------------------------------------------------------------------------\u001b[0m",
      "\u001b[0;31mFileNotFoundError\u001b[0m                         Traceback (most recent call last)",
      "Cell \u001b[0;32mIn[3], line 7\u001b[0m\n\u001b[1;32m      5\u001b[0m \u001b[38;5;28;01mimport\u001b[39;00m \u001b[38;5;21;01mpandas\u001b[39;00m \u001b[38;5;28;01mas\u001b[39;00m \u001b[38;5;21;01mpd\u001b[39;00m \n\u001b[1;32m      6\u001b[0m \u001b[38;5;66;03m#cargamos el archivo de excel \u001b[39;00m\n\u001b[0;32m----> 7\u001b[0m df \u001b[38;5;241m=\u001b[39m pd\u001b[38;5;241m.\u001b[39mread_excel(\u001b[38;5;124m'\u001b[39m\u001b[38;5;124musu_individual_T423.xlsx\u001b[39m\u001b[38;5;124m'\u001b[39m)\n\u001b[1;32m      8\u001b[0m \u001b[38;5;28mprint\u001b[39m(df )\n",
      "File \u001b[0;32m~/anaconda3/lib/python3.11/site-packages/pandas/util/_decorators.py:211\u001b[0m, in \u001b[0;36mdeprecate_kwarg.<locals>._deprecate_kwarg.<locals>.wrapper\u001b[0;34m(*args, **kwargs)\u001b[0m\n\u001b[1;32m    209\u001b[0m     \u001b[38;5;28;01melse\u001b[39;00m:\n\u001b[1;32m    210\u001b[0m         kwargs[new_arg_name] \u001b[38;5;241m=\u001b[39m new_arg_value\n\u001b[0;32m--> 211\u001b[0m \u001b[38;5;28;01mreturn\u001b[39;00m func(\u001b[38;5;241m*\u001b[39margs, \u001b[38;5;241m*\u001b[39m\u001b[38;5;241m*\u001b[39mkwargs)\n",
      "File \u001b[0;32m~/anaconda3/lib/python3.11/site-packages/pandas/util/_decorators.py:331\u001b[0m, in \u001b[0;36mdeprecate_nonkeyword_arguments.<locals>.decorate.<locals>.wrapper\u001b[0;34m(*args, **kwargs)\u001b[0m\n\u001b[1;32m    325\u001b[0m \u001b[38;5;28;01mif\u001b[39;00m \u001b[38;5;28mlen\u001b[39m(args) \u001b[38;5;241m>\u001b[39m num_allow_args:\n\u001b[1;32m    326\u001b[0m     warnings\u001b[38;5;241m.\u001b[39mwarn(\n\u001b[1;32m    327\u001b[0m         msg\u001b[38;5;241m.\u001b[39mformat(arguments\u001b[38;5;241m=\u001b[39m_format_argument_list(allow_args)),\n\u001b[1;32m    328\u001b[0m         \u001b[38;5;167;01mFutureWarning\u001b[39;00m,\n\u001b[1;32m    329\u001b[0m         stacklevel\u001b[38;5;241m=\u001b[39mfind_stack_level(),\n\u001b[1;32m    330\u001b[0m     )\n\u001b[0;32m--> 331\u001b[0m \u001b[38;5;28;01mreturn\u001b[39;00m func(\u001b[38;5;241m*\u001b[39margs, \u001b[38;5;241m*\u001b[39m\u001b[38;5;241m*\u001b[39mkwargs)\n",
      "File \u001b[0;32m~/anaconda3/lib/python3.11/site-packages/pandas/io/excel/_base.py:482\u001b[0m, in \u001b[0;36mread_excel\u001b[0;34m(io, sheet_name, header, names, index_col, usecols, squeeze, dtype, engine, converters, true_values, false_values, skiprows, nrows, na_values, keep_default_na, na_filter, verbose, parse_dates, date_parser, thousands, decimal, comment, skipfooter, convert_float, mangle_dupe_cols, storage_options)\u001b[0m\n\u001b[1;32m    480\u001b[0m \u001b[38;5;28;01mif\u001b[39;00m \u001b[38;5;129;01mnot\u001b[39;00m \u001b[38;5;28misinstance\u001b[39m(io, ExcelFile):\n\u001b[1;32m    481\u001b[0m     should_close \u001b[38;5;241m=\u001b[39m \u001b[38;5;28;01mTrue\u001b[39;00m\n\u001b[0;32m--> 482\u001b[0m     io \u001b[38;5;241m=\u001b[39m ExcelFile(io, storage_options\u001b[38;5;241m=\u001b[39mstorage_options, engine\u001b[38;5;241m=\u001b[39mengine)\n\u001b[1;32m    483\u001b[0m \u001b[38;5;28;01melif\u001b[39;00m engine \u001b[38;5;129;01mand\u001b[39;00m engine \u001b[38;5;241m!=\u001b[39m io\u001b[38;5;241m.\u001b[39mengine:\n\u001b[1;32m    484\u001b[0m     \u001b[38;5;28;01mraise\u001b[39;00m \u001b[38;5;167;01mValueError\u001b[39;00m(\n\u001b[1;32m    485\u001b[0m         \u001b[38;5;124m\"\u001b[39m\u001b[38;5;124mEngine should not be specified when passing \u001b[39m\u001b[38;5;124m\"\u001b[39m\n\u001b[1;32m    486\u001b[0m         \u001b[38;5;124m\"\u001b[39m\u001b[38;5;124man ExcelFile - ExcelFile already has the engine set\u001b[39m\u001b[38;5;124m\"\u001b[39m\n\u001b[1;32m    487\u001b[0m     )\n",
      "File \u001b[0;32m~/anaconda3/lib/python3.11/site-packages/pandas/io/excel/_base.py:1652\u001b[0m, in \u001b[0;36mExcelFile.__init__\u001b[0;34m(self, path_or_buffer, engine, storage_options)\u001b[0m\n\u001b[1;32m   1650\u001b[0m     ext \u001b[38;5;241m=\u001b[39m \u001b[38;5;124m\"\u001b[39m\u001b[38;5;124mxls\u001b[39m\u001b[38;5;124m\"\u001b[39m\n\u001b[1;32m   1651\u001b[0m \u001b[38;5;28;01melse\u001b[39;00m:\n\u001b[0;32m-> 1652\u001b[0m     ext \u001b[38;5;241m=\u001b[39m inspect_excel_format(\n\u001b[1;32m   1653\u001b[0m         content_or_path\u001b[38;5;241m=\u001b[39mpath_or_buffer, storage_options\u001b[38;5;241m=\u001b[39mstorage_options\n\u001b[1;32m   1654\u001b[0m     )\n\u001b[1;32m   1655\u001b[0m     \u001b[38;5;28;01mif\u001b[39;00m ext \u001b[38;5;129;01mis\u001b[39;00m \u001b[38;5;28;01mNone\u001b[39;00m:\n\u001b[1;32m   1656\u001b[0m         \u001b[38;5;28;01mraise\u001b[39;00m \u001b[38;5;167;01mValueError\u001b[39;00m(\n\u001b[1;32m   1657\u001b[0m             \u001b[38;5;124m\"\u001b[39m\u001b[38;5;124mExcel file format cannot be determined, you must specify \u001b[39m\u001b[38;5;124m\"\u001b[39m\n\u001b[1;32m   1658\u001b[0m             \u001b[38;5;124m\"\u001b[39m\u001b[38;5;124man engine manually.\u001b[39m\u001b[38;5;124m\"\u001b[39m\n\u001b[1;32m   1659\u001b[0m         )\n",
      "File \u001b[0;32m~/anaconda3/lib/python3.11/site-packages/pandas/io/excel/_base.py:1525\u001b[0m, in \u001b[0;36minspect_excel_format\u001b[0;34m(content_or_path, storage_options)\u001b[0m\n\u001b[1;32m   1522\u001b[0m \u001b[38;5;28;01mif\u001b[39;00m \u001b[38;5;28misinstance\u001b[39m(content_or_path, \u001b[38;5;28mbytes\u001b[39m):\n\u001b[1;32m   1523\u001b[0m     content_or_path \u001b[38;5;241m=\u001b[39m BytesIO(content_or_path)\n\u001b[0;32m-> 1525\u001b[0m \u001b[38;5;28;01mwith\u001b[39;00m get_handle(\n\u001b[1;32m   1526\u001b[0m     content_or_path, \u001b[38;5;124m\"\u001b[39m\u001b[38;5;124mrb\u001b[39m\u001b[38;5;124m\"\u001b[39m, storage_options\u001b[38;5;241m=\u001b[39mstorage_options, is_text\u001b[38;5;241m=\u001b[39m\u001b[38;5;28;01mFalse\u001b[39;00m\n\u001b[1;32m   1527\u001b[0m ) \u001b[38;5;28;01mas\u001b[39;00m handle:\n\u001b[1;32m   1528\u001b[0m     stream \u001b[38;5;241m=\u001b[39m handle\u001b[38;5;241m.\u001b[39mhandle\n\u001b[1;32m   1529\u001b[0m     stream\u001b[38;5;241m.\u001b[39mseek(\u001b[38;5;241m0\u001b[39m)\n",
      "File \u001b[0;32m~/anaconda3/lib/python3.11/site-packages/pandas/io/common.py:865\u001b[0m, in \u001b[0;36mget_handle\u001b[0;34m(path_or_buf, mode, encoding, compression, memory_map, is_text, errors, storage_options)\u001b[0m\n\u001b[1;32m    856\u001b[0m         handle \u001b[38;5;241m=\u001b[39m \u001b[38;5;28mopen\u001b[39m(\n\u001b[1;32m    857\u001b[0m             handle,\n\u001b[1;32m    858\u001b[0m             ioargs\u001b[38;5;241m.\u001b[39mmode,\n\u001b[0;32m   (...)\u001b[0m\n\u001b[1;32m    861\u001b[0m             newline\u001b[38;5;241m=\u001b[39m\u001b[38;5;124m\"\u001b[39m\u001b[38;5;124m\"\u001b[39m,\n\u001b[1;32m    862\u001b[0m         )\n\u001b[1;32m    863\u001b[0m     \u001b[38;5;28;01melse\u001b[39;00m:\n\u001b[1;32m    864\u001b[0m         \u001b[38;5;66;03m# Binary mode\u001b[39;00m\n\u001b[0;32m--> 865\u001b[0m         handle \u001b[38;5;241m=\u001b[39m \u001b[38;5;28mopen\u001b[39m(handle, ioargs\u001b[38;5;241m.\u001b[39mmode)\n\u001b[1;32m    866\u001b[0m     handles\u001b[38;5;241m.\u001b[39mappend(handle)\n\u001b[1;32m    868\u001b[0m \u001b[38;5;66;03m# Convert BytesIO or file objects passed with an encoding\u001b[39;00m\n",
      "\u001b[0;31mFileNotFoundError\u001b[0m: [Errno 2] No such file or directory: 'usu_individual_T423.xlsx'"
     ]
    }
   ],
   "source": [
    "#parte 1: Analizando la base \n",
    "#1.a Tenemos que eliminar todas las observaciones que no corresponden a CABA y GBA\n",
    "import sys\n",
    "!{sys.executable} -m pip install pandas\n",
    "import pandas as pd \n",
    "#cargamos el archivo de excel \n",
    "df = pd.read_excel('usu_individual_T423.xlsx')\n",
    "print(df )"
   ]
  },
  {
   "cell_type": "code",
   "execution_count": null,
   "id": "4e98655f",
   "metadata": {},
   "outputs": [],
   "source": [
    "print(df.columns)"
   ]
  },
  {
   "cell_type": "code",
   "execution_count": null,
   "id": "54689600",
   "metadata": {},
   "outputs": [],
   "source": [
    "\n",
    "aglomerado = 'AGLOMERADO'\n",
    "\n",
    "#definimos los \"IDs\" correspondientes a CABA y GBA\n",
    "ids_caba_gba = [32, 33] \n",
    "\n",
    "#filytranos las filas corresponden a CABA y GBA\n",
    "df_filtrado = df[df[aglomerado].isin(ids_caba_gba)]\n",
    "\n",
    "#guardamos el DataFrame filtrado en un nuevo archivo excel\n",
    "df_filtrado.to_excel('datos_filtrados.xlsx', index=False)"
   ]
  },
  {
   "cell_type": "code",
   "execution_count": null,
   "id": "30132284",
   "metadata": {},
   "outputs": [],
   "source": [
    "print (df_filtrado)"
   ]
  },
  {
   "cell_type": "code",
   "execution_count": null,
   "id": "5c45357b",
   "metadata": {},
   "outputs": [],
   "source": [
    "#1.b eliminamos las columnas IDECCFR, PDECCFR y PDECIFR que aparecen como NAN (explicacion en el informe)\n",
    "columnas_a_eliminar = ['IDECCFR', 'PDECCFR', 'PDECIFR']\n",
    "df_filtrado = df_filtrado.drop(columns=columnas_a_eliminar)\n",
    "\n",
    "#guardamos el DataFrame filtrado y con columnas eliminadas en un nuevo archivo Excel\n",
    "df_filtrado.to_excel('datos_filtrados.xlsx', index=False)\n"
   ]
  },
  {
   "cell_type": "code",
   "execution_count": null,
   "id": "c7bd9014",
   "metadata": {},
   "outputs": [],
   "source": [
    "print (df_filtrado)"
   ]
  },
  {
   "cell_type": "code",
   "execution_count": null,
   "id": "117de640",
   "metadata": {},
   "outputs": [],
   "source": [
    "#1.c realizamos un grafico de barras mostrando la composicion por sexo.\n",
    "\n",
    "import sys\n",
    "import pandas as pd\n",
    "import seaborn as sns\n",
    "import matplotlib.pyplot as plt\n",
    "\n",
    "#renombramos los valores de la columna 'CH04', ya que toma valor 1 cuando es Varon y 2 cuando es Mujer. \n",
    "df_filtrado['sexo'] = df_filtrado['CH04'].replace({1: 'Varón', 2: 'Mujer'})\n",
    "\n",
    "#creamos un gráfico de barras agrupadas de la composición por sexo y por aglomeración\n",
    "plt.figure(figsize=(10, 6))  # Ajustar el tamaño de la figura\n",
    "sns.countplot(data=df_filtrado, x=aglomerado, hue='sexo', palette='pastel')\n",
    "plt.title('Composición por sexo segun aglomerado')\n",
    "plt.xlabel('Aglomerado ID')\n",
    "plt.ylabel('Cantidad de registros')\n",
    "plt.legend(title='Sexo')\n",
    "plt.show()\n"
   ]
  },
  {
   "cell_type": "code",
   "execution_count": null,
   "id": "1b473918",
   "metadata": {},
   "outputs": [],
   "source": [
    "#1.d queremos realizar una matriz de correlacion con las variables: CH04, CH07, CH08, NIVEL ED, ESTADO, CAT INAC, IPCF.\n",
    "\n",
    "#primero cargamos el archivod de excel con los datos filtrados\n",
    "data = pd.read_excel('datos_filtrados.xlsx')\n",
    "print(data.columns)\n",
    "\n",
    "#seleccionamos las columnas especificadas para la matriz de correlación\n",
    "variables = ['CH04', 'CH07', 'CH08', 'NIVEL_ED', 'ESTADO', 'CAT_INAC', 'IPCF']\n",
    "data_selected = data[variables]\n",
    "\n",
    "#calculamos la matriz de correlacion \n",
    "corr = data_selected.corr()\n",
    "\n",
    "#graficamos la matriz de correlacion \n",
    "plt.figure(figsize=(10, 8))\n",
    "ax = sns.heatmap(\n",
    "    corr, \n",
    "    vmin=-1, vmax=1, center=0,\n",
    "    cmap=sns.diverging_palette(20, 220, n=200),\n",
    "    square=True,\n",
    "    annot=True  # Añadir valores en las celdas\n",
    ")\n",
    "\n",
    "ax.set_xticklabels(\n",
    "    ax.get_xticklabels(),\n",
    "    rotation=45,\n",
    "    horizontalalignment='right'\n",
    ")\n",
    "\n",
    "ax.set_yticklabels(\n",
    "    ax.get_yticklabels(),\n",
    "    rotation=0,\n",
    "    horizontalalignment='right'\n",
    ")\n",
    "\n",
    "plt.title('Matriz de Correlación')\n",
    "plt.show()\n"
   ]
  },
  {
   "cell_type": "code",
   "execution_count": null,
   "id": "82d35753",
   "metadata": {},
   "outputs": [],
   "source": [
    "#1.e  queremos ver: cuantos desocupados, inactivos, la media del IPCF segun estado (ocupado, desocupado, inactivo) en la muestra\n",
    "\n",
    "import pandas as pd\n",
    "\n",
    "#cargamos el archivo con los datos filtrados\n",
    "data = pd.read_excel('datos_filtrados.xlsx')\n",
    "\n",
    "# Suponemos que la columna 'ESTADO' indica el estado de ocupación\n",
    "# 1 = Ocupado, 2 = Desocupado, 3 = Inactivo\n",
    "\n",
    "# Calcular el número de desocupados y inactivos\n",
    "num_desocupados = data[data['ESTADO'] == 2].shape[0]\n",
    "num_inactivos = data[data['ESTADO'] == 3].shape[0]\n",
    "\n",
    "print(f\"Cantidad de desocupados: {num_desocupados}\")\n",
    "print(f\"Cantidad de inactivos: {num_inactivos}\")\n",
    "\n",
    "# Calcular la media de IPCF según el estado\n",
    "# Agrupamos por la columna 'ESTADO' y calculamos la media de 'IPCF'\n",
    "mean_ipcf_by_estado = data.groupby('ESTADO')['IPCF'].mean()\n",
    "\n",
    "# Suponiendo que los valores en 'ESTADO' son 1 = Ocupado, 2 = Desocupado, 3 = Inactivo\n",
    "mean_ipcf_noresponde = mean_ipcf_by_estado.get(0, float('nan'))\n",
    "mean_ipcf_ocupado = mean_ipcf_by_estado.get(1, float('nan'))\n",
    "mean_ipcf_desocupado = mean_ipcf_by_estado.get(2, float('nan'))\n",
    "mean_ipcf_inactivo = mean_ipcf_by_estado.get(3, float('nan'))\n",
    "mean_ipcf_menor_de_10 = mean_ipcf_by_estado.get(4, float('nan'))\n",
    "print(f\"Media de IPCF para los menores de 10 años: {mean_ipcf_menor_de_10}\")\n",
    "print(f\"Media de IPCF para los que no responden: {mean_ipcf_noresponde}\")\n",
    "print(f\"Media de IPCF para ocupados: {mean_ipcf_ocupado}\")\n",
    "print(f\"Media de IPCF para desocupados: {mean_ipcf_desocupado}\")\n",
    "print(f\"Media de IPCF para inactivos: {mean_ipcf_inactivo}\")\n"
   ]
  },
  {
   "cell_type": "code",
   "execution_count": 8,
   "id": "a645f29e",
   "metadata": {},
   "outputs": [
    {
     "name": "stdout",
     "output_type": "stream",
     "text": [
      "Guardado en 'datos_con_adulto_equiv.xlsx'\n"
     ]
    }
   ],
   "source": [
    "#f.\n",
    "import pandas as pd\n",
    "\n",
    "#primero definimos los rangos de edad porque en el excel de adultos equivalentes estan en forma de texto\n",
    "edad_replace = {\n",
    "    'Menor de 1 año': -1,\n",
    "    '1año': 1,\n",
    "    '2 años': 2,\n",
    "    '3 años': 3,\n",
    "    '4 años': 4,\n",
    "    '5 años': 5,\n",
    "    '6 años': 6,\n",
    "    '7 años': 7,\n",
    "    '8 años': 8,\n",
    "    '9 años': 9,\n",
    "    '10 años': 10,\n",
    "    '11 años': 11,\n",
    "    '12 años': 12,\n",
    "    '13 años': 13,\n",
    "    '14 años': 14,\n",
    "    '15 años': 15,\n",
    "    '16 años': 16,\n",
    "    '17 años': 17,\n",
    "    '18 a 29 años': list(range(18, 30)),\n",
    "    '30 a 45 años': list(range(30, 46)),\n",
    "    '46 a 60 años': list(range(46, 61)),\n",
    "    '61 a 75 años': list(range(61, 76)),\n",
    "    'más de 75 años': list(range(76, 110))\n",
    "}\n",
    "\n",
    "#cargamos los datos filtrados \n",
    "data = pd.read_excel('datos_filtrados.xlsx')\n",
    "\n",
    "#cargamos \"tabla_adulto_equiv.xlsx\" considerando solo las filas relevantes\n",
    "tabla_adulto_equiv = pd.read_excel('tabla_adulto_equiv.xlsx', skiprows=5, nrows=24)\n",
    "tabla_adulto_equiv.columns = ['edad', 'mujeres', 'varones']\n",
    "\n",
    "# Convertir la columna 'edad' a string. \n",
    "tabla_adulto_equiv['edad'] = tabla_adulto_equiv['edad'].astype(str)\n",
    "\n",
    "# Preparar la tabla de adultos equivalentes\n",
    "tabla_adulto_equiv = tabla_adulto_equiv.melt(id_vars=['edad'], var_name='sexo', value_name='adulto_equiv')\n",
    "tabla_adulto_equiv['sexo'] = tabla_adulto_equiv['sexo'].map({'mujeres': 2, 'varones': 1})\n",
    "\n",
    "#manejamos los rangos de edad de la tabla.\n",
    "def expand_ranges(df, edad_replace):\n",
    "    rows = []\n",
    "    for _, row in df.iterrows():\n",
    "        if row['edad'] in edad_replace:\n",
    "            if isinstance(edad_replace[row['edad']], int):\n",
    "                rows.append(row)\n",
    "            else:\n",
    "                for age in edad_replace[row['edad']]:\n",
    "                    new_row = row.copy()\n",
    "                    new_row['edad'] = str(age)\n",
    "                    rows.append(new_row)\n",
    "        else:\n",
    "            rows.append(row)\n",
    "    return pd.DataFrame(rows)\n",
    "\n",
    "tabla_adulto_equiv_expanded = expand_ranges(tabla_adulto_equiv, edad_replace)\n",
    "\n",
    "# Convertir las edades en el DataFrame principal a texto para que coincidan con el formato de tabla_adulto_equiv\n",
    "data['CH06'] = data['CH06'].astype(str)\n",
    "\n",
    "# Crear una clave de combinación única para hacer el merge en la tabla expandida\n",
    "tabla_adulto_equiv_expanded['clave'] = tabla_adulto_equiv_expanded['sexo'].astype(str) + '_' + tabla_adulto_equiv_expanded['edad']\n",
    "data['clave'] = data['CH04'].astype(str) + '_' + data['CH06']\n",
    "\n",
    "# Hacer el merge con la tabla de adulto equivalente\n",
    "data = pd.merge(data, tabla_adulto_equiv_expanded[['clave', 'adulto_equiv']], on='clave', how='left')\n",
    "\n",
    "# Sumar la columna 'adulto_equiv' por hogar y crear la columna 'ad equiv hogar'\n",
    "data['ad equiv hogar'] = data.groupby('CODUSU')['adulto_equiv'].transform('sum')\n",
    "\n",
    "# Guardar el DataFrame con las nuevas columnas en un nuevo archivo Excel\n",
    "data.to_excel('datos_con_adulto_equiv.xlsx', index=False)\n",
    "\n",
    "print(\"Guardado en 'datos_con_adulto_equiv.xlsx'\")\n"
   ]
  },
  {
   "cell_type": "code",
   "execution_count": 9,
   "id": "d4029d2e",
   "metadata": {},
   "outputs": [],
   "source": [
    "import pandas as pd\n",
    "data = pd.read_excel('datos_con_adulto_equiv.xlsx')\n"
   ]
  },
  {
   "cell_type": "code",
   "execution_count": 11,
   "id": "1785bdc3",
   "metadata": {},
   "outputs": [
    {
     "name": "stdout",
     "output_type": "stream",
     "text": [
      "Cantidad de personas que respondieron el ITF: 4401\n",
      "Cantidad de personas que no respondieron el ITF: 2979\n"
     ]
    }
   ],
   "source": [
    "#3. identificamos las personas que no reportaron su ingreso total familiar (ITF)\n",
    "import pandas as pd\n",
    "\n",
    "# Contar cuántas personas respondieron y no respondieron el ITF\n",
    "num_respondieron_itf = (data['ITF'] != 0).sum()\n",
    "num_no_respondieron_itf = (data['ITF'] == 0).sum()\n",
    "\n",
    "print(f\"Cantidad de personas que respondieron el ITF: {num_respondieron_itf}\")\n",
    "print(f\"Cantidad de personas que no respondieron el ITF: {num_no_respondieron_itf}\")\n",
    "\n",
    "# Crear DataFrames separados para quienes respondieron y no respondieron el ITF\n",
    "respondieron_itf = data[data['ITF'] != 0].copy()\n",
    "no_respondieron_itf = data[data['ITF'] == 0].copy()\n",
    "\n",
    "# Guardar los nuevos DataFrames en archivo csv\n",
    "respondieron_itf.to_csv('respondieron_itf.csv', index=False)\n",
    "no_respondieron_itf.to_csv('no_respondieron_itf.csv', index=False)\n"
   ]
  },
  {
   "cell_type": "code",
   "execution_count": 12,
   "id": "1ccc33fc",
   "metadata": {},
   "outputs": [],
   "source": [
    "#4. calculamos el ingreso necesario\n",
    "canasta_basica_total = 132853.3\n",
    "respondieron_itf['ingreso_necesario'] = canasta_basica_total * respondieron_itf['adulto_equiv']\n"
   ]
  },
  {
   "cell_type": "code",
   "execution_count": 13,
   "id": "1b14c5f5",
   "metadata": {},
   "outputs": [
    {
     "name": "stdout",
     "output_type": "stream",
     "text": [
      "Cantidad de personas identificadas como pobres: 157\n"
     ]
    }
   ],
   "source": [
    "#5. calculamos la condición de pobreza\n",
    "respondieron_itf['pobre'] = (respondieron_itf['ITF'] < respondieron_itf['ingreso_necesario']).astype(int)\n",
    "num_pobres = respondieron_itf['pobre'].sum()\n",
    "\n",
    "print(f\"Cantidad de personas identificadas como pobres: {num_pobres}\")\n"
   ]
  },
  {
   "cell_type": "code",
   "execution_count": null,
   "id": "ac993a82",
   "metadata": {},
   "outputs": [],
   "source": []
  },
  {
   "cell_type": "code",
   "execution_count": null,
   "id": "c9e480f7",
   "metadata": {},
   "outputs": [],
   "source": []
  },
  {
   "cell_type": "code",
   "execution_count": null,
   "id": "0981449e",
   "metadata": {},
   "outputs": [],
   "source": []
  }
 ],
 "metadata": {
  "kernelspec": {
   "display_name": "Python 3 (ipykernel)",
   "language": "python",
   "name": "python3"
  },
  "language_info": {
   "codemirror_mode": {
    "name": "ipython",
    "version": 3
   },
   "file_extension": ".py",
   "mimetype": "text/x-python",
   "name": "python",
   "nbconvert_exporter": "python",
   "pygments_lexer": "ipython3",
   "version": "3.11.4"
  }
 },
 "nbformat": 4,
 "nbformat_minor": 5
}
